{
 "cells": [
  {
   "cell_type": "markdown",
   "metadata": {},
   "source": [
    "# Probability notation\n",
    "\n",
    "$ \\\\ $\n",
    "\n",
    "### Marginal probability\n",
    "\n",
    "$ p(X)  $ denotes a marginal probability distribution of x.\n",
    "\n",
    "Marginal probability is the probability of an event irrespective of the outcome of another variable.\n",
    "\n",
    "#### Discrete case (Roll dice) $p(X)  $ ~ $\\mathcal{U}(1,6)$\n",
    "\n",
    "You can call p(X) as probability mass function (pmf).\n",
    "\n",
    "(The actual notation of pmf is $p(X = x)$ )\n",
    "\n",
    "<img src=\"dunif01.png\">\n"
   ]
  },
  {
   "cell_type": "markdown",
   "metadata": {},
   "source": [
    "#### Continuous case $ p(X) $ ~ $ \\mathcal{N}(\\mu,\\sigma) $\n",
    "\n",
    "You can call p(X) as probability density function (pdf).\n",
    "\n",
    "(The actual notation of pdf is $p(X = x)$ )\n",
    "\n",
    "<img src=\"probability_distribution_heights.png\">"
   ]
  },
  {
   "cell_type": "markdown",
   "metadata": {},
   "source": [
    "### Joint probability\n",
    "\n",
    "$p(X,Y)$ denoted a joint probability of X and Y\n",
    "\n",
    "#### Independent \n",
    "For example, flip the coin two times, the outcome of second coin not depend on first coin.\n",
    "\n",
    "x denote for outcome of fliping the first coin\n",
    "\n",
    "y denote for outcome of fliping the second coin\n",
    "\n",
    "$$p(X,Y) = p(X)p(Y) $$\n",
    "\n"
   ]
  },
  {
   "cell_type": "markdown",
   "metadata": {},
   "source": [
    "\n",
    "#### Dependent\n",
    "For example, this is the record of cloudy and rain in 30 day\n",
    "\n",
    "                                |            | Rain | No rain |\n",
    "                                |------------|------|---------|\n",
    "                                | Cloudy     | 10   | 5       |\n",
    "                                | Not cloudy | 2    | 13      |\n",
    "                                \n",
    "probability of raining is $12/30 = 0.4$ -> $p(X)$\n",
    "\n",
    "probability of cloudy is $15/30 = 0.5$ -> $p(Y)$\n",
    "\n",
    "probability of raining and cloudy is $10/30 = 0.333$ -> $p(X,Y)$\n",
    "\n",
    "$$p(X,Y) \\neq p(X)p(Y) $$"
   ]
  },
  {
   "cell_type": "markdown",
   "metadata": {},
   "source": [
    "### Conditional probability\n",
    "$ p(X \\mid Y) $  denotes a conditional probability distribution of X conditioned on Y\n",
    "\n",
    "Let look the rain & cloudy table above\n",
    "\n",
    "probability of raining in cloudy day is $10/15 = 0.666$ -> $p(X \\mid Y)$\n",
    "\n",
    "probability of cloudy is $15/30 = 0.5$ -> $p(Y)$\n",
    "\n",
    "probability of raining and cloudy is $10/30 = 0.333$ -> $p(X,Y)$\n",
    "\n",
    "$$Bayes \\ Theorem \\ \\ \\ \\ \\ \\  p(X \\mid Y)p(Y) = p(X,Y)$$\n",
    "\n",
    "The Bayes theorem tell how often X happen given that Y happens, written as $p(X \\mid Y)$"
   ]
  },
  {
   "cell_type": "markdown",
   "metadata": {},
   "source": [
    "## Bayesian Inference\n",
    "\n",
    "\n",
    " $$p(X,Y) = p(X \\mid Y)p(Y) $$"
   ]
  },
  {
   "cell_type": "code",
   "execution_count": null,
   "metadata": {},
   "outputs": [],
   "source": []
  }
 ],
 "metadata": {
  "kernelspec": {
   "display_name": "Python 3",
   "language": "python",
   "name": "python3"
  },
  "language_info": {
   "codemirror_mode": {
    "name": "ipython",
    "version": 3
   },
   "file_extension": ".py",
   "mimetype": "text/x-python",
   "name": "python",
   "nbconvert_exporter": "python",
   "pygments_lexer": "ipython3",
   "version": "3.7.4"
  }
 },
 "nbformat": 4,
 "nbformat_minor": 2
}
