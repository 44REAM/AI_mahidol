{
  "nbformat": 4,
  "nbformat_minor": 0,
  "metadata": {
    "colab": {
      "name": "week2.ipynb",
      "provenance": [],
      "toc_visible": true,
      "authorship_tag": "ABX9TyNkRmSreFXUMk11SkhC/6fi",
      "include_colab_link": true
    },
    "kernelspec": {
      "name": "python3",
      "display_name": "Python 3"
    }
  },
  "cells": [
    {
      "cell_type": "markdown",
      "metadata": {
        "id": "view-in-github",
        "colab_type": "text"
      },
      "source": [
        "<a href=\"https://colab.research.google.com/github/44REAM/AI_mahidol/blob/master/week2.ipynb\" target=\"_parent\"><img src=\"https://colab.research.google.com/assets/colab-badge.svg\" alt=\"Open In Colab\"/></a>"
      ]
    },
    {
      "cell_type": "markdown",
      "metadata": {
        "id": "726j-m81wRyh",
        "colab_type": "text"
      },
      "source": [
        "# Latent variable\n",
        "\n",
        "Latent variables are variable that you not directly observed. But sometime we can construct that variables from physical reality.\n",
        "\n",
        "For example\n",
        "\n",
        "1. In advertising\n",
        "\n",
        "You can collect data of person (e.g. ages, sex, what product they like to buy) and use their data to predict what they want to buy. But you cannot record their emotion and emotion may effect the decision whether they want to buy the product. And emotion is your latent variable.\n",
        "\n",
        "2. iuyiuyi"
      ]
    },
    {
      "cell_type": "markdown",
      "metadata": {
        "id": "z_kATSCV6Ikr",
        "colab_type": "text"
      },
      "source": [
        "# General EM algolithm\n",
        "\n",
        "\n",
        "> $\\theta$ = {$\\pi, \\mu, \\sigma$} \\\n",
        "> $i$ is denote sample number i \\\n",
        "> $k$ denote category of the data \\\n",
        "> $X$ is random variable \\\n",
        "> $z$ is latent random variable\n",
        "\n",
        "\n",
        "likelihood function $p(X \\mid \\theta)$\n",
        "\n",
        "$$p(X \\mid \\theta) = \\sum_{k} p(X, z = k \\mid \\theta)$$\n",
        "\n",
        "$$ln \\ p(X \\mid \\theta) = ln\\sum_{k} p(X, z = k \\mid \\theta)$$\n",
        "\n",
        "\n",
        "### ***Algorithm*** \n",
        "\n",
        "\n",
        "\n",
        "---\n",
        "\n",
        "\n",
        "> Initial random parameter $\\theta$\n",
        "\n",
        "> E-Step\n",
        "\n",
        "Evaluate\n",
        "\n",
        "$$q(z) = p(z \\mid X, \\theta_{old})$$\n",
        "\n",
        "> M-Step\n",
        "\n",
        "Find $\\theta_{new}$\n",
        "\n",
        "$$\\theta_{new} = \\underset{\\theta}{argmax} \\ E[p(X,z \\mid \\theta)]$$\n",
        "\n",
        "\n",
        "---\n",
        "\n",
        "\n",
        "\n"
      ]
    },
    {
      "cell_type": "markdown",
      "metadata": {
        "id": "cs-nivCbqx1I",
        "colab_type": "text"
      },
      "source": [
        "## Jensen inequality\n",
        "---\n",
        "\n",
        "\n",
        "Log function is concave function\n",
        "\n",
        "![alt text](https://drive.google.com/uc?id=1Rlud2niSCB-mrFBh9kXI-ucRnOGiFezD)\n",
        "\n",
        "![alt text](https://drive.google.com/uc?id=1Do8xLyMdS3-jNXgny0GFxFrwzmdnlQML)\n",
        "\n",
        "for $0 \\leqslant \\alpha \\leqslant 1$\n",
        "\n",
        "$$f(\\alpha v_1 + (1-\\alpha)v_2) \\geqslant \\alpha f(v_1) + (1-\\alpha)f(v_2)$$\n",
        "\n",
        "It still true if you have more point\n",
        "\n",
        "$$f(\\sum \\alpha_k v_k) \\geqslant \\sum \\alpha_k f(v_k)$$\n",
        "\n",
        "$$\\boxed{f(E[v]) \\geqslant E[f(v)]}$$ \\\n",
        "\n",
        "---\n"
      ]
    },
    {
      "cell_type": "markdown",
      "metadata": {
        "id": "hEP4pWws6Nqh",
        "colab_type": "text"
      },
      "source": [
        "\n",
        "Add $q(z = k)$\n",
        "\n",
        "\n",
        "\n",
        "> You can view  $q(z = k)$ as another distribution of random variable z like $p(z =k \\mid X, \\theta_2)$ (use different parameter $\\theta$)\n",
        "\n",
        "\n",
        "\n",
        "$$ln(p(X \\mid \\theta)) = ln [ \\sum_{k} \\frac{q(z = k)}{q(z = k)} p(X, z = k \\mid \\theta)]$$\n",
        "\n",
        "And $ln$ is concave function.\n",
        "\n",
        "$$ln [ \\sum_{k} \\frac{q(z = k)}{q(z = k)} p(X, z = k \\mid \\theta)] \\geqslant \\sum_k q(z =k )ln \\frac{p(X, z = k \\mid \\theta)}{q(z = k)}$$\n",
        "\n",
        "$$\\boxed{ln(p(X \\mid \\theta)) \\geqslant \\sum_k q(z =k ) \\ ln \\frac{p(X, z = k \\mid \\theta)}{q(z = k)}}$$\n",
        "\n",
        "So we can maximize $\\sum_k q(z =k ) \\ ln \\frac{p(X, z = k \\mid \\theta)}{q(z = k)}$ instead.\n",
        "\n",
        "But before that let look at the gap first.\n",
        "\n",
        "$$GAP =ln(p(X \\mid \\theta)) -  \\sum_k q(z =k ) \\ ln \\frac{p(X, z = k \\mid \\theta)}{q(z = k)}$$\n",
        "\n",
        "$$GAP =ln(p(X \\mid \\theta))\\sum_k q(z =k ) -  \\sum_k q(z =k ) \\ ln \\frac{p(X, z = k \\mid \\theta)}{q(z = k)}$$\n",
        "\n",
        "$$GAP =\\sum_k q(z =k )[ ln(p(X \\mid \\theta)) -   \\ ln \\frac{p(X, z = k \\mid \\theta)}{q(z = k)}]$$\n",
        "\n",
        "$$GAP =\\sum_k q(z =k ) \\ ln \\frac{p(X \\mid \\theta)q(z = k)}{p(X, z = k \\mid \\theta)}$$\n",
        "\n",
        "$$GAP =\\sum_k q(z =k ) \\ ln \\frac{p(X \\mid \\theta)q(z = k)}{p(z = k \\mid X, \\theta)p(X \\mid \\theta)}$$\n",
        "\n",
        "$$GAP =\\sum_k q(z =k ) \\ ln \\frac{q(z = k)}{p(z = k \\mid X, \\theta)}$$\n",
        "\n",
        "Conclusion\n",
        "\n",
        "$$\\boxed{ln(p(X \\mid \\theta)) = \\underbrace{\\sum_k q(z =k) ln\\frac{p(X,z =k\\mid \\theta)}{q(z=k)}}_\\text{Lower Bound} +\\underbrace{ \\sum_k q(z=k) ln\\frac{q(z=k)}{p(z=k \\mid X, \\theta)}}_\\text{KL-divergence}}$$\n",
        "\n",
        "The first term on the right size that came from jensen inequality call \"lower bound\" $L(\\theta,q)$ and the second term is the \"GAP\". So, what we want is try to maximize the lower bound or minimize the GAP. And when you look at GAP it may remind you of KL-divergence. \n",
        "\n",
        "To minimum KL-divergence you get $$q(z=k)= p(z=k \\mid X, \\theta)$$\n",
        "\n",
        "And try to maximum first term $L(\\theta,q)$\n",
        "\n",
        "$$\\sum_k q(z =k) ln\\frac{p(X,z =k\\mid \\theta)}{q(z=k)} = \\sum_k q(z =k) ln \\ p(X,z =k\\mid \\theta) - Constant$$\n",
        "\n",
        "$$\\sum_k q(z =k) ln\\frac{p(X,z =k\\mid \\theta)}{q(z=k)} \\propto \\sum_k q(z =k) ln \\ p(X,z =k\\mid \\theta)$$\n",
        "\n",
        "$$L(\\theta,q) \\propto \\sum_k q(z =k) ln \\ p(X,z =k\\mid \\theta)$$\n",
        "\n"
      ]
    },
    {
      "cell_type": "markdown",
      "metadata": {
        "id": "lGQQ7fOsal2n",
        "colab_type": "text"
      },
      "source": [
        "## KL-divergence\n",
        "\n",
        "One way to view entropy is the way that information can distribute in the system.\n",
        "\n",
        "entropy can write as $H(p)$\n",
        "\n",
        "$$\\boxed{H(p) = -\\sum p(X)log(p(X))}$$\n",
        "\n",
        "> For example\n",
        "\n",
        "![alt text](https://drive.google.com/uc?id=1uhZha2DtbGKWnycIhw3eIkIKr6P8bxG3)\n",
        "\n",
        "You at the receiver side, you can get one or zero at p = 0.5. And when you guess the number you have a change that you wrong. But if you know that you will get one at probability 1 and get zero at probability 0, you can always get correct answer. This is mean the system 1 have more information than system 2. Then system 1 have more entropy than system 2.\n",
        "\n",
        "> Another example [Ref](https://www.quora.com/Whats-an-intuitive-way-to-think-of-cross-entropy)\n",
        "\n",
        "Your goal is to ask lowest question to get the answer\n",
        "\n",
        "*   Game 1 every ball have same probability (0.25)\n",
        "\n",
        "![alt text](https://drive.google.com/uc?id=10mQuYRjxmXSXbl2Qdu5loSe4oCV2coJE)\n",
        "\n",
        "*   Game 2 blue (p = 0.5) red (p = 0.25) green and yellow (p = 0.125)\n",
        "\n",
        "![alt text](https://drive.google.com/uc?id=1StbxF1j0y5TWHYG0_Eauc3W7eKsXQ_mo)\n",
        "\n",
        "cross entropy $H(q,p)$\n",
        "\n",
        "$$-\\sum q(X)log(p(X)) \\geqslant -\\sum q(X)log(q(X))$$\n",
        "\n",
        "$$H(q,p) \\geqslant H(q)$$\n",
        "\n",
        "KL-divergence $D_{KL}(q || p)$\n",
        "\n",
        "$$\\underbrace{\\sum q(X)log(q(X))}_\\text{neg entropy of q} - \\underbrace{\\sum q(X)log(p(X))}_\\text{Cross entropy q and p}$$\n",
        "\n",
        "$$ = \\sum q(X)\\frac{log(q(X))}{log(p(X))} \\geqslant 0$$\n",
        "\n",
        "Note that you can use jensen inequality to check that $D_{KL}(q || p)\\geqslant 0$ \n"
      ]
    },
    {
      "cell_type": "markdown",
      "metadata": {
        "id": "IaX3AXGQwW3K",
        "colab_type": "text"
      },
      "source": [
        "# GMM (Gaussian mixture model)\n",
        "\n",
        "![alt text](https://drive.google.com/uc?id=1gjilUVmv2H0mL4f9ZdrFEFpKivuUEjQr)\n",
        "\n",
        "![alt text](https://drive.google.com/uc?id=1sfuaeJpyziHQbhIIBu38TzqwGggjzITY)\n",
        "\n",
        "![alt text](https://drive.google.com/uc?id=1Q_AQJtgGlK0nMEhbK67aELSHGhQE39ar)\n",
        "\n",
        "![alt text](https://drive.google.com/uc?id=1MqIULg0zfezXSioGl84JfTOmblfDlTwS)\n",
        "\n",
        "![alt text](https://drive.google.com/uc?id=1Fe0VJt2jULPruSUxt3wuTRyDFuj8t23C)\n",
        "\n",
        "![alt text](https://drive.google.com/uc?id=1Z4lRg2J9g-cWvGOBmGuYjEPRf1Xi7jbN)\n",
        "\n"
      ]
    },
    {
      "cell_type": "markdown",
      "metadata": {
        "id": "Qy-wwKpe6swf",
        "colab_type": "text"
      },
      "source": [
        "We can build simple graphical model like this\n",
        "\n",
        "![alt text](https://drive.google.com/uc?id=1LD2ZTFrx5iNeLN-WPUvUXuTxX1LAtX5x)\n",
        "\n",
        "![alt text](https://drive.google.com/uc?id=1CMvjwQ44Ir2z-BsmLYJIrvdSUmiguZBS)\n",
        "\n",
        "For full version of graphical model let look at wiki https://en.wikipedia.org/wiki/Mixture_model\n",
        "\n",
        "Let \n",
        "\n",
        "> $z \\thicksim Categorical(\\pi)$ \\\n",
        "> $k$ = number of category \\\n",
        "> $\\theta$ = {$\\pi, \\mu, \\sigma$}\n",
        "\n",
        "We want   $p(z \\mid x)$\n",
        "\n",
        "$$p(z \\mid x) = \\frac{p(x,z)}{p(x)}$$\n",
        "\n",
        "$$p(z \\mid x) = \\frac{p(x \\mid z)p(z)}{p(x)}$$\n",
        "\n",
        "Find $p(x)$\n",
        "\n",
        "$$p(x) = \\sum_{all \\ z} p(x,z)$$\n",
        "\n",
        "$$p(x) = \\sum_{all \\ z} p(z)p(x \\mid z)$$\n",
        "\n",
        "Define $p(z = k)$\n",
        "\n",
        "$$p(z = k) = \\pi_k$$\n",
        "\n",
        "Model $p(x \\mid z = k)$ as gaussian\n",
        "\n",
        "$$p(x \\mid z = k) = \\mathcal{N}(x \\mid \\mu_k, \\sigma_k)$$\n",
        "\n",
        "you got \n",
        "\n",
        "$$p(z = k \\mid x) = \\frac{p(z=k,x)}{p(x)}$$\n",
        "\n",
        "\n",
        "\n",
        "$$p(z = k \\mid x) = \\frac{\\pi_k \\mathcal{N}(x \\mid \\mu_k, \\sigma_k)}{\\sum_{k} \\pi_k \\mathcal{N}(x \\mid \\mu_k, \\sigma_k)}$$\n",
        "\n",
        "I will write $p(z=k \\mid x)$ as function $q(z=k)$"
      ]
    },
    {
      "cell_type": "markdown",
      "metadata": {
        "id": "XfTDj5lMcP98",
        "colab_type": "text"
      },
      "source": [
        "## EM Algorithm for GMM\n",
        "\n",
        "> E-step\n",
        "\n",
        "$$q(z=k) = p(z=k \\mid X,\\theta_{old})$$\n",
        "\n",
        "$$q(z_i=k) = \\frac{\\pi_k^{old} \\mathcal{N}(x_i \\mid \\mu_k^{old}, \\sigma_k^{old})}{\\sum_{k} \\pi_k^{old} \\mathcal{N}(x_i \\mid \\mu_k^{old}, \\sigma_k^{old})}$$\n",
        "\n",
        "> M-step maximize $L(\\theta,q)$\n",
        "\n",
        "\n",
        "$\\frac{ \\partial L(\\theta,q)}{\\partial u_k^{new}} = 0$\n",
        "\n",
        "$$\\boxed {\\mu_k^{new} = \\frac{1}{N_k} \\sum_i q(z_{i} = k)x_i}$$\n",
        "\n",
        "$\\frac{ \\partial L(\\theta,q)}{\\partial \\sigma_k^{new}} = 0$\n",
        "\n",
        "$$\\boxed {\\sigma_k^{new} = \\frac{1}{N_k} \\sum_i q(z_{i} = k)(x_i-\\mu_k^{new})(x_i-\\mu_k^{new})^T}$$\n",
        "\n",
        "$\\frac{ \\partial L(\\theta,q)}{\\partial \\pi_k^{new}} = \\lambda \\frac{\\partial \\ Constrain}{\\partial \\pi_k^{new}}$ for $\\lambda$ is Lagrange multiplier\n",
        "\n",
        "$$\\boxed{\\pi_k = \\frac{N_k}{N}}$$\n",
        "\n",
        "\n",
        "\n",
        "For we define\n",
        "\n",
        "$$N_k = \\sum_i q(z_i =k)$$"
      ]
    },
    {
      "cell_type": "markdown",
      "metadata": {
        "id": "hHjGip_lkX6M",
        "colab_type": "text"
      },
      "source": [
        "## Programming\n",
        "### Generate Data"
      ]
    },
    {
      "cell_type": "code",
      "metadata": {
        "id": "-x8uweL7BjKz",
        "colab_type": "code",
        "outputId": "ff18fd55-f8d4-4230-abf8-b21ebe5ce207",
        "colab": {
          "base_uri": "https://localhost:8080/",
          "height": 265
        }
      },
      "source": [
        "import numpy as np\n",
        "import matplotlib.pyplot as plt\n",
        "from scipy.stats import norm\n",
        "from sklearn.cluster import KMeans\n",
        "\n",
        "x1 = np.random.randn(200)*0.5-5\n",
        "x2 = np.random.randn(500) + 3\n",
        "x3 = np.random.randn(30)*1.5+5\n",
        "\n",
        "y = np.zeros(700)\n",
        "\n",
        "x = np.concatenate((x1,x2))\n",
        "g1 = np.linspace(-10,10,1000)\n",
        "y1 = norm.pdf(g1, -5,0.5)\n",
        "\n",
        "g2 = np.linspace(-10,10,1000)\n",
        "y2 = norm.pdf(g2, 3, 1)\n",
        "\n",
        "plt.plot(g1,y1)\n",
        "plt.plot(g2,y2)\n",
        "plt.scatter(x,y)\n",
        "plt.show()"
      ],
      "execution_count": 0,
      "outputs": [
        {
          "output_type": "display_data",
          "data": {
            "image/png": "[encoded data removed]",
            "text/plain": [
              "<Figure size 432x288 with 1 Axes>"
            ]
          },
          "metadata": {
            "tags": []
          }
        }
      ]
    },
    {
      "cell_type": "markdown",
      "metadata": {
        "id": "LItgDpxgU_-Q",
        "colab_type": "text"
      },
      "source": [
        "### Algorithm"
      ]
    },
    {
      "cell_type": "code",
      "metadata": {
        "id": "xLblt_sPxKUK",
        "colab_type": "code",
        "colab": {}
      },
      "source": [
        "# It is better if you initialize with K-mean first to help GMM convert faster\n",
        "def initialize(cluster):\n",
        "  mu = np.random.uniform(-6,9,size = cluster)\n",
        "  sigma = np.random.uniform(size = cluster)\n",
        "  pi = np.random.uniform(size = cluster)\n",
        "  pi = pi/pi.sum()\n",
        "  return mu, sigma, pi\n",
        "\n",
        "def initialize_k_mean(data, cluster):\n",
        "\n",
        "  kmeans = KMeans(n_clusters=2, random_state=0).fit(data.reshape((-1,1)))\n",
        "  mu = kmeans.cluster_centers_.reshape(cluster)\n",
        "\n",
        "  sigma = np.random.uniform(size = cluster)\n",
        "  pi = np.ones(cluster)/cluster\n",
        "  return mu, sigma, pi\n",
        "\n",
        "def e_step(data,cluster, mu, sigma, pi):\n",
        "  # for calculate pdf of Gaussian you can search google for gaussian equation or use scipy.stats.norm\n",
        "  gamma = []\n",
        "  tmp = []\n",
        "  for k in range(cluster):\n",
        "    tmp.append(norm.pdf(data,mu[k],sigma[k])*pi[k])\n",
        "  tmp = np.array(tmp)\n",
        "  sum_k = tmp.sum(axis=0)\n",
        "\n",
        "  for k in range(cluster):\n",
        "    gamma.append(norm.pdf(data,mu[k],sigma[k])*pi[k]/sum_k)\n",
        "\n",
        "  gamma = np.array(gamma)\n",
        "  return gamma\n",
        "\n",
        "def m_step(data,cluster, gamma):\n",
        "  N_k = gamma.sum(axis = 1)\n",
        "\n",
        "  all_data = np.array([data]*cluster)\n",
        "\n",
        "  # mu\n",
        "  mu_new = (gamma*data).sum(axis = 1)/N_k\n",
        "\n",
        "  #sigma\n",
        "  data_sub_mean = all_data - mu_new.reshape((cluster,-1))\n",
        "  sigma_new = ((gamma*( data_sub_mean**2 )).sum(axis = 1))/N_k\n",
        "  sigma_new = np.sqrt(sigma_new)\n",
        "\n",
        "  #pi\n",
        "  pi_new = N_k/N_k.sum()\n",
        "\n",
        "  return mu_new, sigma_new, pi_new\n"
      ],
      "execution_count": 0,
      "outputs": []
    },
    {
      "cell_type": "code",
      "metadata": {
        "id": "ndQ2JuC5P3lU",
        "colab_type": "code",
        "outputId": "7f9f2c29-66ce-490e-a078-fcae17520416",
        "colab": {
          "base_uri": "https://localhost:8080/",
          "height": 265
        }
      },
      "source": [
        "\n",
        "\n",
        "epoch = 100\n",
        "cluster = 2\n",
        "data = x\n",
        "\n",
        "mu, sigma, pi = initialize_k_mean(data, cluster)\n",
        "\n",
        "for i in range(epoch):\n",
        "  gamma = e_step(data,cluster, mu, sigma, pi)\n",
        "\n",
        "  mu, sigma, pi = m_step(data,cluster, gamma)\n",
        "\n",
        "\n",
        "g1 = np.linspace(-7,10,1000)\n",
        "y1 = norm.pdf(g1, mu[0], sigma[0])\n",
        "\n",
        "g2 = np.linspace(-9,10,1000)\n",
        "y2 = norm.pdf(g2, mu[1], sigma[1])\n",
        "\n",
        "plt.plot(g1,y1)\n",
        "plt.plot(g2,y2)\n",
        "plt.scatter(x,y)\n",
        "plt.show()\n",
        "\n",
        "\n"
      ],
      "execution_count": 0,
      "outputs": [
        {
          "output_type": "display_data",
          "data": {
            "image/png": "[encoded data removed]",
            "text/plain": [
              "<Figure size 432x288 with 1 Axes>"
            ]
          },
          "metadata": {
            "tags": []
          }
        }
      ]
    },
    {
      "cell_type": "markdown",
      "metadata": {
        "id": "ViQpszrQbp0V",
        "colab_type": "text"
      },
      "source": [
        "# PCA (Principal component analysis)\n",
        "\n",
        "If you have many variable (feature) in your data,sometime you may want to reduced the variable (feature) that insert into your model. In otherword you may want to reduce the dimension of your feature space but still preserved the information of your data.\n",
        "\n",
        "## Normal approach\n",
        "\n",
        "*   Substract mean from dataset first.\n",
        "*   $w$ is unit vector parallel to the axis that have most variance\n",
        "*   X is two dimension matrix $m \\times n$ for $m$ is number of dataset and $n$ is number of feature\n",
        "\n",
        "You want to maximum the variance of $Xw$ subject to $w$ is unit vector\n",
        "\n",
        "> Maximum $||Xw||^2$ \\\n",
        "> Subject to  $||w||^2 = 1$\n",
        "\n",
        "You can construct lagrange function $\\mathcal{L}$\n",
        "\n",
        "$$\\mathcal{L}(X,w,\\lambda) = ||Xw||^2 - \\lambda||w||^2$$\n",
        "\n",
        "> for $\\lambda$ is lagrange constant\n",
        "\n",
        "you want to find $w$ so just differentiate with w.\n",
        "\n",
        "$$\\frac{ \\partial ||Xw||^2}{\\partial w} = \\lambda \\frac{\\partial{||w||^2}}{\\partial w}$$\n",
        "\n",
        "$$ X^TXw = C w$$ for $C$ is some constant\n",
        "\n",
        "Went you look to the equation it may remind you of something. It is eigenvector/eigenvalue equation.\n",
        "\n",
        "Let $A = X^TX$\n",
        "\n",
        "$$ Aw = Cw$$\n",
        "\n",
        "or \n",
        "\n",
        "$$A = V \\Lambda V^{-1}$$\n",
        "\n",
        "> $V$ is eigenvector matrix \\\n",
        "> $\\Lambda$ is eigenvalue matrix\n",
        "\n",
        "So you just find the eigenvector of A and you got the solution $V$ but $V$ is the matrix of all eigenvector, so what eigenvector we should use?\n",
        "\n",
        "Let do SVD of X\n",
        "\n",
        "$$X = U\\Sigma R^T$$\n",
        "\n",
        "$$X^TX = R\\Sigma^2 R^T$$\n",
        "\n",
        "$$A = R\\Sigma^2 R^T$$\n",
        "\n",
        "Is similar to the $A = V \\Lambda V^{-1}$\n",
        "\n",
        "So\n",
        "> $V$ = $R$ \\\n",
        "> $\\Lambda$ = $\\Sigma^2$\n",
        "\n",
        "And you get \n",
        "\n",
        "$$XV = U\\Sigma$$\n",
        "\n",
        "Let look at what we want first, we want $Xw$ maximum and you know that w is in $V$\n",
        "\n",
        "Because $U$ is orthonormal matrix the variance in collumn is = 1, we should select where $U\\Sigma$ is maximum. And that mean select the eigenvector where the eigenvalue is maximum.\n",
        "\n",
        "\n"
      ]
    },
    {
      "cell_type": "markdown",
      "metadata": {
        "id": "2LTIp5GmUzD2",
        "colab_type": "text"
      },
      "source": [
        "## Programming"
      ]
    },
    {
      "cell_type": "code",
      "metadata": {
        "id": "DnLOMqUCvIV8",
        "colab_type": "code",
        "outputId": "7aa7f349-1c2e-408e-f53a-6e8bdfe15c9e",
        "colab": {
          "base_uri": "https://localhost:8080/",
          "height": 283
        }
      },
      "source": [
        "import numpy as np\n",
        "import matplotlib.pyplot as plt\n",
        "\n",
        "size = 100\n",
        "x = np.random.uniform(0,1, size = size)\n",
        "\n",
        "y = 2*x +1 + np.random.uniform(0,0.2, size = size)\n",
        "\n",
        "y = y.reshape((size,1))\n",
        "x = x.reshape((size,1))\n",
        "\n",
        "dataset = np.concatenate((x,y) , axis = 1)\n",
        "\n",
        "plt.ylim((0,4))\n",
        "plt.xlabel('Feature 1')\n",
        "plt.ylabel('Feature 2')\n",
        "plt.scatter(x,y)\n",
        "plt.show()"
      ],
      "execution_count": 0,
      "outputs": [
        {
          "output_type": "display_data",
          "data": {
            "image/png": "[encoded data removed]",
            "text/plain": [
              "<Figure size 432x288 with 1 Axes>"
            ]
          },
          "metadata": {
            "tags": []
          }
        }
      ]
    },
    {
      "cell_type": "markdown",
      "metadata": {
        "id": "S_rb8LjX5ICa",
        "colab_type": "text"
      },
      "source": [
        "Substract mean from dataset "
      ]
    },
    {
      "cell_type": "code",
      "metadata": {
        "id": "zFQZqINC5OOF",
        "colab_type": "code",
        "outputId": "e691d440-15c8-4c8c-8978-d837cc8b68ba",
        "colab": {
          "base_uri": "https://localhost:8080/",
          "height": 279
        }
      },
      "source": [
        "dataset_norm = dataset- dataset.mean(axis = 0)\n",
        "\n",
        "x = dataset_norm.T[0]\n",
        "y = dataset_norm.T[1]\n",
        "\n",
        "\n",
        "plt.xlabel('Feature 1')\n",
        "plt.ylabel('Feature 2')\n",
        "plt.scatter(x,y)\n",
        "plt.show()"
      ],
      "execution_count": 0,
      "outputs": [
        {
          "output_type": "display_data",
          "data": {
            "image/png": "[encoded data removed]",
            "text/plain": [
              "<Figure size 432x288 with 1 Axes>"
            ]
          },
          "metadata": {
            "tags": []
          }
        }
      ]
    },
    {
      "cell_type": "markdown",
      "metadata": {
        "id": "VOagdKHP8Uay",
        "colab_type": "text"
      },
      "source": [
        "Inverse PCA"
      ]
    },
    {
      "cell_type": "code",
      "metadata": {
        "id": "flj5SsRUvzK6",
        "colab_type": "code",
        "outputId": "a78afb9d-c31f-4988-d238-60514a2a3f53",
        "colab": {
          "base_uri": "https://localhost:8080/",
          "height": 283
        }
      },
      "source": [
        "cov = dataset_norm.T.dot(dataset_norm)\n",
        "eig_value, eig_vector = np.linalg.eigh(cov)\n",
        "\n",
        "max_eig_vector = eig_vector[-1].reshape((2,1))\n",
        "\n",
        "after_pca = dataset_norm.dot(max_eig_vector)\n",
        "inv_pca = after_pca.dot(max_eig_vector.T)\n",
        "\n",
        "plot_inv_pca = inv_pca.T\n",
        "\n",
        "plt.scatter(plot_inv_pca[0], plot_inv_pca[1])\n"
      ],
      "execution_count": 0,
      "outputs": [
        {
          "output_type": "execute_result",
          "data": {
            "text/plain": [
              "<matplotlib.collections.PathCollection at 0x7f235cbc8780>"
            ]
          },
          "metadata": {
            "tags": []
          },
          "execution_count": 56
        },
        {
          "output_type": "display_data",
          "data": {
            "image/png": "[encoded data removed]",
            "text/plain": [
              "<Figure size 432x288 with 1 Axes>"
            ]
          },
          "metadata": {
            "tags": []
          }
        }
      ]
    },
    {
      "cell_type": "markdown",
      "metadata": {
        "id": "5OCNo6OJIrSj",
        "colab_type": "text"
      },
      "source": [
        "## PCA with kernel\n",
        "\n",
        "let $x,z \\in X$\n",
        "\n",
        "Introduce mapping function $\\phi:X \\rightarrow \\mathcal{R^n}$\n",
        "\n",
        "and kernel function $k(x,z) = \\langle \\phi(x) ,\\phi(z) \\rangle$\n",
        "\n",
        "Mapping function change data from feature space to kernel space to make it more simple to analyse.\n",
        "\n",
        "Example\n",
        "\n",
        "$\\phi (x) = x \\ mod \\ 2$ \n",
        "\n",
        "map feature from 1 dimension into 2 dimension space\n",
        "\n",
        "![alt text](https://drive.google.com/uc?id=1zb3W5BW0k_AuKFOenbv9zr0wUpaLLOOz)\n",
        "\n",
        "![alt text](https://drive.google.com/uc?id=1NXHZc2mb9egsPuUhNADZ0yaDDH7F3106)\n"
      ]
    },
    {
      "cell_type": "markdown",
      "metadata": {
        "id": "h8NxVE9lp5Gc",
        "colab_type": "text"
      },
      "source": [
        "## Probabilistic PCA"
      ]
    },
    {
      "cell_type": "markdown",
      "metadata": {
        "id": "VAwdT6KruByR",
        "colab_type": "text"
      },
      "source": [
        "# Variational inference"
      ]
    },
    {
      "cell_type": "markdown",
      "metadata": {
        "id": "dJJEmm_SDDg6",
        "colab_type": "text"
      },
      "source": [
        "Sometime calculate the posterior distribution is complex so, we want to simplify a function that we want to calculate.\n",
        "\n",
        "You can view variation technique as function that take function as input, for example, entropy $H(p)$ which take function $p(x)$ as input\n",
        "\n",
        "$$H(p) = -\\sum p(x)ln \\ p(x)$$\n",
        "\n"
      ]
    },
    {
      "cell_type": "markdown",
      "metadata": {
        "id": "kx7PPtEQGrDV",
        "colab_type": "text"
      },
      "source": [
        "For more concrete example\n",
        "\n",
        "You want to find a path from point a to point b that take least time.\n",
        "\n",
        "![alt text](https://drive.google.com/uc?id=1EA86kZXs5J_5eZQPognVg2qhXVB_pFF6)\n",
        "\n",
        "$$time = \\frac{distance}{velocity}$$\n",
        "\n",
        "Distance\n",
        "\n",
        "$$d \\ distance = \\sqrt{dx^2 + dy^2}$$\n",
        "\n",
        "$$d \\ distance = \\sqrt{1 + (\\frac{dy}{dx})^2} dx$$\n",
        "\n",
        "$$velocity = v(x,y)$$\n",
        "\n",
        "$$time = \\int_A^B \\frac{ \\sqrt{1 + (\\frac{dy}{dx})^2}}{v(x,y)}dx$$\n",
        "\n",
        "$$time = \\int_A^B L(x,y,y') dx$$\n",
        "\n",
        "Instead of find the minimum time, we find $y(x)$ that can make time minimum."
      ]
    },
    {
      "cell_type": "markdown",
      "metadata": {
        "id": "YmosyAvlN_Iu",
        "colab_type": "text"
      },
      "source": [
        "# Sampling method\n"
      ]
    },
    {
      "cell_type": "markdown",
      "metadata": {
        "id": "G_P5xJM8OVBp",
        "colab_type": "text"
      },
      "source": [
        "## Rejection sampling"
      ]
    },
    {
      "cell_type": "markdown",
      "metadata": {
        "id": "DS2XuWPfOXnu",
        "colab_type": "text"
      },
      "source": [
        "## Gibbs sampling"
      ]
    },
    {
      "cell_type": "markdown",
      "metadata": {
        "id": "uirOSYPdOZ9U",
        "colab_type": "text"
      },
      "source": [
        "## Metroplis-Hastings sampling"
      ]
    },
    {
      "cell_type": "markdown",
      "metadata": {
        "id": "M9EFKMm_Mzlc",
        "colab_type": "text"
      },
      "source": [
        "# Reference\n",
        "\n",
        "1. Pattern Recognition and Machine Learning (Information Science and Statistics) [Amazon](https://www.amazon.com/Pattern-Recognition-Learning-Information-Statistics/dp/0387310738/ref=sr_1_1?crid=2HA6Y1WFBEXK7&keywords=pattern+recognition+and+machine+learning&qid=1581843216&sprefix=pattern+re%2Caps%2C396&sr=8-1)\n",
        "\n",
        "2. Introduction to Applied Bayesian Statistics and Estimation for Social Scientists [Amazon](https://www.amazon.com/Introduction-Statistics-Estimation-Scientists-Behavioral/dp/038771264X/ref=sr_1_11?keywords=statistics+for+the+social+and+behavioral+sciences&qid=1581844192&sr=8-11)\n",
        "\n",
        "3. Deep bayes [Youtube](https://www.youtube.com/playlist?list=PLe5rNUydzV9QHe8VDStpU0o8Yp63OecdW)"
      ]
    }
  ]
}