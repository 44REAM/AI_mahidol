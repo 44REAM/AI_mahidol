{
  "nbformat": 4,
  "nbformat_minor": 0,
  "metadata": {
    "colab": {
      "name": "week2.ipynb",
      "provenance": [],
      "toc_visible": true,
      "authorship_tag": "ABX9TyOZOitOa0Hrz9HCvz+cxWeX",
      "include_colab_link": true
    },
    "kernelspec": {
      "name": "python3",
      "display_name": "Python 3"
    }
  },
  "cells": [
    {
      "cell_type": "markdown",
      "metadata": {
        "id": "view-in-github",
        "colab_type": "text"
      },
      "source": [
        "<a href=\"https://colab.research.google.com/github/44REAM/AI_mahidol/blob/master/week2.ipynb\" target=\"_parent\"><img src=\"https://colab.research.google.com/assets/colab-badge.svg\" alt=\"Open In Colab\"/></a>"
      ]
    },
    {
      "cell_type": "markdown",
      "metadata": {
        "id": "726j-m81wRyh",
        "colab_type": "text"
      },
      "source": [
        "# Latent variable\n",
        "\n",
        "Latent variables are variable that you not directly observed. But sometime we can construct that variables from physical reality.\n",
        "\n",
        "For example\n",
        "\n",
        "1. In advertising\n",
        "\n",
        "You can collect data of person (e.g. ages, sex, what product they like to buy) and use their data to predict what they want to buy. But you cannot record their emotion and emotion may effect the decision whether they want to buy the product. And emotion is your latent variable.\n",
        "\n",
        "2. iuyiuyi"
      ]
    },
    {
      "cell_type": "markdown",
      "metadata": {
        "id": "z_kATSCV6Ikr",
        "colab_type": "text"
      },
      "source": [
        "# General EM algolithm\n",
        "\n",
        "### ***Algorithm*** \n",
        "\n",
        "\n",
        "\n",
        "---\n",
        "\n",
        "\n",
        "> Initial random parameter $\\theta$\n",
        "\n",
        "> E-Step\n",
        "\n",
        "Evaluate\n",
        "\n",
        "$$q(z) = p(z \\mid X, \\theta_{old})$$\n",
        "\n",
        "> M-Step\n",
        "\n",
        "Find $\\theta_{new}$\n",
        "\n",
        "$$\\theta_{new} = \\underset{\\theta}{argmax} \\ E[p(X,z \\mid \\theta)]$$\n",
        "\n",
        "\n",
        "---\n",
        "\n",
        "\n",
        "\n"
      ]
    },
    {
      "cell_type": "markdown",
      "metadata": {
        "id": "cs-nivCbqx1I",
        "colab_type": "text"
      },
      "source": [
        "\n",
        "> $\\theta$ = {$\\pi, \\mu, \\sigma$} \\\n",
        "> $i$ is denote sample number i \n",
        "\n",
        "likelihood function $p(X \\mid \\theta)$\n",
        "\n",
        "$$p(X \\mid \\theta) = \\sum_{k} p(X, z = k \\mid \\theta)$$\n",
        "\n",
        "$$ln \\ p(X \\mid \\theta) = ln\\sum_{k} p(X, z = k \\mid \\theta)$$\n",
        "\n",
        "---\n",
        "**Jensen inequality**\n",
        "\n",
        "Log function is concave function\n",
        "\n",
        "![alt text](https://drive.google.com/uc?id=1Rlud2niSCB-mrFBh9kXI-ucRnOGiFezD)\n",
        "\n",
        "![alt text](https://drive.google.com/uc?id=1Do8xLyMdS3-jNXgny0GFxFrwzmdnlQML)\n",
        "\n",
        "for $0 \\leqslant \\alpha \\leqslant 1$\n",
        "\n",
        "$$f(\\alpha v_1 + (1-\\alpha)v_2) \\geqslant \\alpha f(v_1) + (1-\\alpha)f(v_2)$$\n",
        "\n",
        "It still true if you have more point\n",
        "\n",
        "$$f(\\sum \\alpha_k v_k) \\geqslant \\sum \\alpha_k f(v_k)$$\n",
        "\n",
        "$$\\boxed{f(E[v]) \\geqslant E[f(v)]}$$ \\\n",
        "\n",
        "---\n"
      ]
    },
    {
      "cell_type": "markdown",
      "metadata": {
        "id": "hEP4pWws6Nqh",
        "colab_type": "text"
      },
      "source": [
        "\n",
        "Add $q(z = k)$\n",
        "\n",
        "\n",
        "\n",
        "> You can view  $q(z = k)$ as another distribution of random variable z like $p(z =k \\mid X, \\theta_2)$ (use different parameter $\\theta$)\n",
        "\n",
        "\n",
        "\n",
        "$$ln(p(X \\mid \\theta)) = ln [ \\sum_{k} \\frac{q(z = k)}{q(z = k)} p(X, z = k \\mid \\theta)]$$\n",
        "\n",
        "And $ln$ is concave function.\n",
        "\n",
        "$$ln [ \\sum_{k} \\frac{q(z = k)}{q(z = k)} p(X, z = k \\mid \\theta)] \\geqslant \\sum_k q(z =k )ln \\frac{p(X, z = k \\mid \\theta)}{q(z = k)}$$\n",
        "\n",
        "$$\\boxed{ln(p(X \\mid \\theta)) \\geqslant \\sum_k q(z =k ) \\ ln \\frac{p(X, z = k \\mid \\theta)}{q(z = k)}}$$\n",
        "\n",
        "So we can maximize $\\sum_k q(z =k ) \\ ln \\frac{p(X, z = k \\mid \\theta)}{q(z = k)}$ instead.\n",
        "\n",
        "But before that let look at the gap first.\n",
        "\n",
        "$$GAP =ln(p(X \\mid \\theta)) -  \\sum_k q(z =k ) \\ ln \\frac{p(X, z = k \\mid \\theta)}{q(z = k)}$$\n",
        "\n",
        "$$GAP =ln(p(X \\mid \\theta))\\sum_k q(z =k ) -  \\sum_k q(z =k ) \\ ln \\frac{p(X, z = k \\mid \\theta)}{q(z = k)}$$\n",
        "\n",
        "$$GAP =\\sum_k q(z =k )[ ln(p(X \\mid \\theta)) -   \\ ln \\frac{p(X, z = k \\mid \\theta)}{q(z = k)}]$$\n",
        "\n",
        "$$GAP =\\sum_k q(z =k ) \\ ln \\frac{p(X \\mid \\theta)q(z = k)}{p(X, z = k \\mid \\theta)}$$\n",
        "\n",
        "$$GAP =\\sum_k q(z =k ) \\ ln \\frac{p(X \\mid \\theta)q(z = k)}{p(z = k \\mid X, \\theta)p(X \\mid \\theta)}$$\n",
        "\n",
        "$$GAP =\\sum_k q(z =k ) \\ ln \\frac{q(z = k)}{p(z = k \\mid X, \\theta)}$$\n",
        "\n",
        "Conclusion\n",
        "\n",
        "$$\\boxed{ln(p(X \\mid \\theta)) = \\underbrace{\\sum_k q(z =k) ln\\frac{p(x,z =k\\mid \\theta)}{q(z=k)}}_\\text{Lower Bound} +\\underbrace{ \\sum_k q(z=k) ln\\frac{q(z=k)}{p(z=k \\mid x, \\theta)}}_\\text{KL-divergence}}$$\n",
        "\n",
        "The first term on the right size that came from jensen inequality call \"lower bound\" $L(\\theta,q)$ and the second term is the \"GAP\". So, what we want is try to maximize the lower bound or minimize the GAP. And when you look at GAP it may remind you of KL-divergence. \n",
        "\n",
        "To minimum KL-divergence you get $$q(z=k)= p(z=k \\mid x, \\theta)$$\n",
        "\n",
        "And try to maximum first term $L(\\theta,q)$\n",
        "\n",
        "$$\\sum_k q(z =k) ln\\frac{p(X,z =k\\mid \\theta)}{q(z=k)} = \\sum_k q(z =k) ln \\ p(X,z =k\\mid \\theta) - Constant$$\n",
        "\n",
        "$$\\sum_k q(z =k) ln\\frac{p(X,z =k\\mid \\theta)}{q(z=k)} \\propto \\sum_k q(z =k) ln \\ p(X,z =k\\mid \\theta)$$\n",
        "\n",
        "$$L(\\theta,q) \\propto \\sum_k q(z =k) ln \\ p(X,z =k\\mid \\theta)$$\n",
        "\n"
      ]
    },
    {
      "cell_type": "markdown",
      "metadata": {
        "id": "IaX3AXGQwW3K",
        "colab_type": "text"
      },
      "source": [
        "# GMM (Gaussian mixture model)\n",
        "\n",
        "![alt text](https://drive.google.com/uc?id=1gjilUVmv2H0mL4f9ZdrFEFpKivuUEjQr)\n",
        "\n",
        "![alt text](https://drive.google.com/uc?id=1sfuaeJpyziHQbhIIBu38TzqwGggjzITY)\n",
        "\n",
        "![alt text](https://drive.google.com/uc?id=1Q_AQJtgGlK0nMEhbK67aELSHGhQE39ar)\n",
        "\n",
        "![alt text](https://drive.google.com/uc?id=1MqIULg0zfezXSioGl84JfTOmblfDlTwS)\n",
        "\n",
        "![alt text](https://drive.google.com/uc?id=1Fe0VJt2jULPruSUxt3wuTRyDFuj8t23C)\n",
        "\n",
        "![alt text](https://drive.google.com/uc?id=1Z4lRg2J9g-cWvGOBmGuYjEPRf1Xi7jbN)\n",
        "\n"
      ]
    },
    {
      "cell_type": "markdown",
      "metadata": {
        "id": "Qy-wwKpe6swf",
        "colab_type": "text"
      },
      "source": [
        "We can build simple graphical model like this\n",
        "\n",
        "![alt text](https://drive.google.com/uc?id=1LD2ZTFrx5iNeLN-WPUvUXuTxX1LAtX5x)\n",
        "\n",
        "![alt text](https://drive.google.com/uc?id=1CMvjwQ44Ir2z-BsmLYJIrvdSUmiguZBS)\n",
        "\n",
        "For full version of graphical model let look at wiki https://en.wikipedia.org/wiki/Mixture_model\n",
        "\n",
        "Let \n",
        "\n",
        "> $z \\thicksim Categorical(\\pi)$ \\\n",
        "> $k$ = number of category \\\n",
        "> $\\theta$ = {$\\pi, \\mu, \\sigma$}\n",
        "\n",
        "We want   $p(z \\mid x)$\n",
        "\n",
        "$$p(z \\mid x) = \\frac{p(x,z)}{p(x)}$$\n",
        "\n",
        "$$p(z \\mid x) = \\frac{p(x \\mid z)p(z)}{p(x)}$$\n",
        "\n",
        "Find $p(x)$\n",
        "\n",
        "$$p(x) = \\sum_{all \\ z} p(x,z)$$\n",
        "\n",
        "$$p(x) = \\sum_{all \\ z} p(z)p(x \\mid z)$$\n",
        "\n",
        "Define $p(z = k)$\n",
        "\n",
        "$$p(z = k) = \\pi_k$$\n",
        "\n",
        "Model $p(x \\mid z = k)$ as gaussian\n",
        "\n",
        "$$p(x \\mid z = k) = \\mathcal{N}(x \\mid \\mu_k, \\sigma_k)$$\n",
        "\n",
        "you got \n",
        "\n",
        "$$p(z = k \\mid x) = \\frac{p(z=k,x)}{p(x)}$$\n",
        "\n",
        "\n",
        "\n",
        "$$p(z = k \\mid x) = \\frac{\\pi_k \\mathcal{N}(x \\mid \\mu_k, \\sigma_k)}{\\sum_{k} \\pi_k \\mathcal{N}(x \\mid \\mu_k, \\sigma_k)}$$\n",
        "\n",
        "I will write $p(z=k \\mid x)$ as function $\\gamma(z=k)$"
      ]
    },
    {
      "cell_type": "markdown",
      "metadata": {
        "id": "XfTDj5lMcP98",
        "colab_type": "text"
      },
      "source": [
        "## EM Algorithm for GMM\n",
        "\n",
        "> E-step\n",
        "\n",
        "$$q(z=k) = p(z=k \\mid X,\\theta_{old})$$\n",
        "\n",
        "$$q(z_i=k) = \\frac{\\pi_k^{old} \\mathcal{N}(x_i \\mid \\mu_k^{old}, \\sigma_k^{old})}{\\sum_{k} \\pi_k^{old} \\mathcal{N}(x_i \\mid \\mu_k^{old}, \\sigma_k^{old})}$$\n",
        "\n",
        "> M-step maximize $L(\\theta,q)$\n",
        "\n",
        "\n",
        "$\\frac{ \\partial L(\\theta,q)}{\\partial u_k^{new}} = 0$\n",
        "\n",
        "$$\\boxed {\\mu_k^{new} = \\frac{1}{N_k} \\sum_i q(z_{i} = k)x_i}$$\n",
        "\n",
        "$\\frac{ \\partial L(\\theta,q)}{\\partial \\sigma_k^{new}} = 0$\n",
        "\n",
        "$$\\boxed {\\mu_k^{new} = \\frac{1}{N_k} \\sum_i q(z_{i} = k)(x_i-\\mu_k^{new})(x_i-\\mu_k^{new})^T}$$\n",
        "\n",
        "$\\frac{ \\partial L(\\theta,q)}{\\partial \\pi_k^{new}} = \\lambda \\frac{\\partial \\ Constrain}{\\partial \\pi_k^{new}}$ for $\\lambda$ is Lagrange multiplier\n",
        "\n",
        "$$\\boxed{\\pi_k = \\frac{N_k}{N}}$$\n",
        "\n",
        "\n",
        "\n",
        "For we define\n",
        "\n",
        "$$N_k = \\sum_i q(z_i =k)$$"
      ]
    },
    {
      "cell_type": "markdown",
      "metadata": {
        "id": "hHjGip_lkX6M",
        "colab_type": "text"
      },
      "source": [
        "## Generate Data"
      ]
    },
    {
      "cell_type": "code",
      "metadata": {
        "id": "-x8uweL7BjKz",
        "colab_type": "code",
        "outputId": "d0e86267-bd41-4c9f-bf86-04570fbe5a26",
        "colab": {
          "base_uri": "https://localhost:8080/",
          "height": 265
        }
      },
      "source": [
        "import numpy as np\n",
        "import matplotlib.pyplot as plt\n",
        "from scipy.stats import norm\n",
        "\n",
        "x1 = np.random.randn(40)*0.5-5\n",
        "x2 = np.random.randn(50) \n",
        "x3 = np.random.randn(30)*1.5+5\n",
        "\n",
        "y = np.zeros(90)\n",
        "\n",
        "x = np.concatenate((x1,x2))\n",
        "g1 = np.linspace(-7,-3,1000)\n",
        "y1 = norm.pdf(g1, -5, 0.5)\n",
        "\n",
        "g2 = np.linspace(-3,3,1000)\n",
        "y2 = norm.pdf(g2, 0, 1.5)\n",
        "\n",
        "plt.plot(g1,y1)\n",
        "plt.plot(g2,y2)\n",
        "plt.scatter(x,y)\n",
        "plt.show()"
      ],
      "execution_count": 78,
      "outputs": [
        {
          "output_type": "display_data",
          "data": {
            "image/png": "[encoded data removed]",
            "text/plain": [
              "<Figure size 432x288 with 1 Axes>"
            ]
          },
          "metadata": {
            "tags": []
          }
        }
      ]
    },
    {
      "cell_type": "markdown",
      "metadata": {
        "id": "4BznUK2rkcmC",
        "colab_type": "text"
      },
      "source": [
        "## Normal version"
      ]
    },
    {
      "cell_type": "code",
      "metadata": {
        "id": "hgoVjeqSkkYP",
        "colab_type": "code",
        "colab": {}
      },
      "source": [
        "# It is better if you initialize with K-mean first to help GMM convert faster\n",
        "def initialize(cluster):\n",
        "  mu = np.random.uniform(-6,9,size = cluster)\n",
        "  sigma = np.random.uniform(size = cluster)\n",
        "  pi = np.random.uniform(size = cluster)\n",
        "  pi = pi/pi.sum()\n",
        "  return mu, sigma, pi\n",
        "  \n",
        "def e_step(data,cluster, mu, sigma, pi):\n",
        "  # for calculate pdf of Gaussian you can search google for gaussian equation or use scipy.stats.norm\n",
        "  n_data = len(data)\n",
        "\n",
        "  gamma = np.zeros((cluster, n_data))\n",
        "  sum_k = np.zeros(n_data)\n",
        "  for k in range(cluster):\n",
        "    sum_k += norm.pdf(data,mu[k],sigma[k])*pi[k]\n",
        "\n",
        "  for k in range(cluster):\n",
        "    for i in range(n_data):\n",
        "      gamma[k][i] = pi[k] * norm.pdf(data[i],mu[k],sigma[k])\n",
        "\n",
        "  gamma = gamma/sum_k\n",
        "  return gamma\n",
        "\n",
        "def m_step(data,cluster, gamma):\n",
        "  n_data = len(data)\n",
        "  N_k = gamma.sum(axis = 1)\n",
        "\n",
        "  mu_new = np.zeros(cluster)\n",
        "  sigma_new = np.zeros(cluster)\n",
        "  pi_new = np.zeros(cluster)\n",
        "\n",
        "  all_data = np.array([data]*cluster)\n",
        "\n",
        "  # mu\n",
        "  for k in range(cluster):\n",
        "    tmp_k = 0\n",
        "    for i in range(n_data):\n",
        "      tmp_k += gamma[k][i]*data[i]\n",
        "    mu_new[k] = tmp_k/N_k[k]\n",
        "\n",
        "  #sigma\n",
        "  for k in range(cluster):\n",
        "    tmp_k = 0\n",
        "    for i in range(n_data):\n",
        "      tmp_k += gamma[k][i]*(data[i]-mu_new[k])**2\n",
        "    sigma_new[k] = tmp_k/N_k[k]\n",
        "\n",
        "  #pi\n",
        "  for k in range(cluster):\n",
        "    pi_new[k] = N_k[k]/N_k.sum()\n",
        "  return mu_new, sigma_new, pi_new"
      ],
      "execution_count": 0,
      "outputs": []
    },
    {
      "cell_type": "markdown",
      "metadata": {
        "id": "VXw9DSFAkcIB",
        "colab_type": "text"
      },
      "source": [
        "## More vecterize version"
      ]
    },
    {
      "cell_type": "code",
      "metadata": {
        "id": "xLblt_sPxKUK",
        "colab_type": "code",
        "colab": {}
      },
      "source": [
        "# It is better if you initialize with K-mean first to help GMM convert faster\n",
        "def initialize(cluster):\n",
        "  mu = np.random.uniform(-6,9,size = cluster)\n",
        "  sigma = np.random.uniform(size = cluster)\n",
        "  pi = np.random.uniform(size = cluster)\n",
        "  pi = pi/pi.sum()\n",
        "  return mu, sigma, pi\n",
        "  \n",
        "def e_step(data,cluster, mu, sigma, pi):\n",
        "  # for calculate pdf of Gaussian you can search google for gaussian equation or use scipy.stats.norm\n",
        "  gamma = []\n",
        "  tmp = []\n",
        "  for k in range(cluster):\n",
        "    tmp.append(norm.pdf(data,mu[k],sigma[k])*pi[k])\n",
        "  tmp = np.array(tmp)\n",
        "  sum_k = tmp.sum(axis=0)\n",
        "\n",
        "  for k in range(cluster):\n",
        "    gamma.append(norm.pdf(data,mu[k],sigma[k])*pi[k]/sum_k)\n",
        "\n",
        "  gamma = np.array(gamma)\n",
        "  return gamma\n",
        "\n",
        "def m_step(data,cluster, gamma):\n",
        "  N_k = gamma.sum(axis = 1)\n",
        "\n",
        "  all_data = np.array([data]*cluster)\n",
        "\n",
        "  # mu\n",
        "  mu_new = (gamma*data).sum(axis = 1)/N_k\n",
        "\n",
        "  #sigma\n",
        "  data_sub_mean = all_data - mu_new.reshape((cluster,-1))\n",
        "  sigma_new = ((gamma*( data_sub_mean**2 )).sum(axis = 1))/N_k\n",
        "\n",
        "  #pi\n",
        "  pi_new = N_k/N_k.sum()\n",
        "  return mu_new, sigma_new, pi_new\n"
      ],
      "execution_count": 0,
      "outputs": []
    },
    {
      "cell_type": "markdown",
      "metadata": {
        "id": "tgDXBfK6skiH",
        "colab_type": "text"
      },
      "source": [
        "## Run"
      ]
    },
    {
      "cell_type": "code",
      "metadata": {
        "id": "ndQ2JuC5P3lU",
        "colab_type": "code",
        "colab": {
          "base_uri": "https://localhost:8080/",
          "height": 1000
        },
        "outputId": "f902992e-5387-4d94-8bae-f5ab7224b619"
      },
      "source": [
        "\n",
        "\n",
        "epoch = 100\n",
        "cluster = 2\n",
        "data = x\n",
        "\n",
        "mu, sigma, pi = initialize(cluster)\n",
        "mu = np.array([-5,0])\n",
        "pi = np.array([0.4,0.6])\n",
        "\n",
        "for i in range(epoch):\n",
        "  gamma = e_step(data,cluster, mu, sigma, pi)\n",
        "\n",
        "  mu, sigma, pi = m_step(data,cluster, gamma)\n",
        "\n",
        "\n",
        "  print(mu)\n",
        "  print(sigma)\n",
        "  print(pi)\n",
        "\n",
        "\n"
      ],
      "execution_count": 75,
      "outputs": [
        {
          "output_type": "stream",
          "text": [
            "[-4.89691422 -0.03335658]\n",
            "[0.69623348 0.74687404]\n",
            "[0.46666799 0.53333201]\n",
            "[-5.02751217 -0.11677204]\n",
            "[0.3589737 0.8909088]\n",
            "[0.4451979 0.5548021]\n",
            "[-5.03378794 -0.12328198]\n",
            "[0.34467937 0.9083658 ]\n",
            "[0.44389341 0.55610659]\n",
            "[-5.03565479 -0.12785255]\n",
            "[0.34295677 0.9241648 ]\n",
            "[0.44320667 0.55679333]\n",
            "[-5.03701905 -0.1311857 ]\n",
            "[0.34169668 0.93566976]\n",
            "[0.44270512 0.55729488]\n",
            "[-5.0382712  -0.13423499]\n",
            "[0.34053754 0.94617754]\n",
            "[0.44224556 0.55775444]\n",
            "[-5.03963126 -0.1375363 ]\n",
            "[0.33927567 0.95753502]\n",
            "[0.44174724 0.55825276]\n",
            "[-5.04135395 -0.14170194]\n",
            "[0.3376731  0.97183835]\n",
            "[0.4411173 0.5588827]\n",
            "[-5.04391885 -0.14787175]\n",
            "[0.33527839 0.99296695]\n",
            "[0.44018193 0.55981807]\n",
            "[-5.04852235 -0.158852  ]\n",
            "[0.33095507 1.03040575]\n",
            "[0.43851039 0.56148961]\n",
            "[-5.05867847 -0.18269744]\n",
            "[0.32131211 1.11103429]\n",
            "[0.43485112 0.56514888]\n",
            "[-5.08192273 -0.23656591]\n",
            "[0.29892465 1.2912347 ]\n",
            "[0.42648197 0.57351803]\n",
            "[-5.10987921 -0.38415787]\n",
            "[0.24875281 1.89160703]\n",
            "[0.40604708 0.59395292]\n",
            "[-5.17367462 -0.83144601]\n",
            "[0.11608793 3.54980938]\n",
            "[0.33889907 0.66110093]\n",
            "[-5.22607009 -1.5941877 ]\n",
            "[0.03258073 5.63124255]\n",
            "[0.19517029 0.80482971]\n",
            "[-5.24501911 -2.07247536]\n",
            "[1.99901893e-03 6.39695862e+00]\n",
            "[0.07266972 0.92733028]\n",
            "[-5.24251851 -2.27025068]\n",
            "[2.73504528e-10 6.58680162e+00]\n",
            "[0.01102611 0.98897389]\n",
            "[        nan -2.30302323]\n",
            "[       nan 6.61050958]\n",
            "[0. 1.]\n",
            "[nan nan]\n",
            "[nan nan]\n",
            "[nan nan]\n",
            "[nan nan]\n",
            "[nan nan]\n",
            "[nan nan]\n",
            "[nan nan]\n",
            "[nan nan]\n",
            "[nan nan]\n"
          ],
          "name": "stdout"
        },
        {
          "output_type": "stream",
          "text": [
            "/usr/local/lib/python3.6/dist-packages/ipykernel_launcher.py:32: RuntimeWarning: invalid value encountered in double_scalars\n",
            "/usr/local/lib/python3.6/dist-packages/scipy/stats/_distn_infrastructure.py:899: RuntimeWarning: invalid value encountered in greater_equal\n",
            "  return (a <= x) & (x <= b)\n",
            "/usr/local/lib/python3.6/dist-packages/scipy/stats/_distn_infrastructure.py:899: RuntimeWarning: invalid value encountered in less_equal\n",
            "  return (a <= x) & (x <= b)\n"
          ],
          "name": "stderr"
        },
        {
          "output_type": "stream",
          "text": [
            "[nan nan]\n",
            "[nan nan]\n",
            "[nan nan]\n",
            "[nan nan]\n",
            "[nan nan]\n",
            "[nan nan]\n",
            "[nan nan]\n",
            "[nan nan]\n",
            "[nan nan]\n",
            "[nan nan]\n",
            "[nan nan]\n",
            "[nan nan]\n",
            "[nan nan]\n",
            "[nan nan]\n",
            "[nan nan]\n",
            "[nan nan]\n",
            "[nan nan]\n",
            "[nan nan]\n",
            "[nan nan]\n",
            "[nan nan]\n",
            "[nan nan]\n",
            "[nan nan]\n",
            "[nan nan]\n",
            "[nan nan]\n",
            "[nan nan]\n",
            "[nan nan]\n",
            "[nan nan]\n",
            "[nan nan]\n",
            "[nan nan]\n",
            "[nan nan]\n",
            "[nan nan]\n",
            "[nan nan]\n",
            "[nan nan]\n",
            "[nan nan]\n",
            "[nan nan]\n",
            "[nan nan]\n",
            "[nan nan]\n",
            "[nan nan]\n",
            "[nan nan]\n",
            "[nan nan]\n",
            "[nan nan]\n",
            "[nan nan]\n",
            "[nan nan]\n",
            "[nan nan]\n",
            "[nan nan]\n",
            "[nan nan]\n",
            "[nan nan]\n",
            "[nan nan]\n",
            "[nan nan]\n",
            "[nan nan]\n",
            "[nan nan]\n",
            "[nan nan]\n",
            "[nan nan]\n",
            "[nan nan]\n",
            "[nan nan]\n",
            "[nan nan]\n",
            "[nan nan]\n",
            "[nan nan]\n",
            "[nan nan]\n",
            "[nan nan]\n",
            "[nan nan]\n",
            "[nan nan]\n",
            "[nan nan]\n",
            "[nan nan]\n",
            "[nan nan]\n",
            "[nan nan]\n",
            "[nan nan]\n",
            "[nan nan]\n",
            "[nan nan]\n",
            "[nan nan]\n",
            "[nan nan]\n",
            "[nan nan]\n",
            "[nan nan]\n",
            "[nan nan]\n",
            "[nan nan]\n",
            "[nan nan]\n",
            "[nan nan]\n",
            "[nan nan]\n",
            "[nan nan]\n",
            "[nan nan]\n",
            "[nan nan]\n",
            "[nan nan]\n",
            "[nan nan]\n",
            "[nan nan]\n",
            "[nan nan]\n",
            "[nan nan]\n",
            "[nan nan]\n",
            "[nan nan]\n",
            "[nan nan]\n",
            "[nan nan]\n",
            "[nan nan]\n",
            "[nan nan]\n",
            "[nan nan]\n",
            "[nan nan]\n",
            "[nan nan]\n",
            "[nan nan]\n",
            "[nan nan]\n",
            "[nan nan]\n",
            "[nan nan]\n",
            "[nan nan]\n",
            "[nan nan]\n",
            "[nan nan]\n",
            "[nan nan]\n",
            "[nan nan]\n",
            "[nan nan]\n",
            "[nan nan]\n",
            "[nan nan]\n",
            "[nan nan]\n",
            "[nan nan]\n",
            "[nan nan]\n",
            "[nan nan]\n",
            "[nan nan]\n",
            "[nan nan]\n",
            "[nan nan]\n",
            "[nan nan]\n",
            "[nan nan]\n",
            "[nan nan]\n",
            "[nan nan]\n",
            "[nan nan]\n",
            "[nan nan]\n",
            "[nan nan]\n",
            "[nan nan]\n",
            "[nan nan]\n",
            "[nan nan]\n",
            "[nan nan]\n",
            "[nan nan]\n",
            "[nan nan]\n",
            "[nan nan]\n",
            "[nan nan]\n",
            "[nan nan]\n",
            "[nan nan]\n",
            "[nan nan]\n",
            "[nan nan]\n",
            "[nan nan]\n",
            "[nan nan]\n",
            "[nan nan]\n",
            "[nan nan]\n",
            "[nan nan]\n",
            "[nan nan]\n",
            "[nan nan]\n",
            "[nan nan]\n",
            "[nan nan]\n",
            "[nan nan]\n",
            "[nan nan]\n",
            "[nan nan]\n",
            "[nan nan]\n",
            "[nan nan]\n",
            "[nan nan]\n",
            "[nan nan]\n",
            "[nan nan]\n",
            "[nan nan]\n",
            "[nan nan]\n",
            "[nan nan]\n",
            "[nan nan]\n",
            "[nan nan]\n",
            "[nan nan]\n",
            "[nan nan]\n",
            "[nan nan]\n",
            "[nan nan]\n",
            "[nan nan]\n",
            "[nan nan]\n",
            "[nan nan]\n",
            "[nan nan]\n",
            "[nan nan]\n",
            "[nan nan]\n",
            "[nan nan]\n",
            "[nan nan]\n",
            "[nan nan]\n",
            "[nan nan]\n",
            "[nan nan]\n",
            "[nan nan]\n",
            "[nan nan]\n",
            "[nan nan]\n",
            "[nan nan]\n",
            "[nan nan]\n",
            "[nan nan]\n",
            "[nan nan]\n",
            "[nan nan]\n",
            "[nan nan]\n",
            "[nan nan]\n",
            "[nan nan]\n",
            "[nan nan]\n",
            "[nan nan]\n",
            "[nan nan]\n",
            "[nan nan]\n",
            "[nan nan]\n",
            "[nan nan]\n",
            "[nan nan]\n",
            "[nan nan]\n",
            "[nan nan]\n",
            "[nan nan]\n",
            "[nan nan]\n",
            "[nan nan]\n",
            "[nan nan]\n",
            "[nan nan]\n",
            "[nan nan]\n",
            "[nan nan]\n",
            "[nan nan]\n",
            "[nan nan]\n",
            "[nan nan]\n",
            "[nan nan]\n",
            "[nan nan]\n",
            "[nan nan]\n",
            "[nan nan]\n",
            "[nan nan]\n",
            "[nan nan]\n",
            "[nan nan]\n",
            "[nan nan]\n",
            "[nan nan]\n",
            "[nan nan]\n",
            "[nan nan]\n",
            "[nan nan]\n",
            "[nan nan]\n",
            "[nan nan]\n",
            "[nan nan]\n",
            "[nan nan]\n",
            "[nan nan]\n",
            "[nan nan]\n",
            "[nan nan]\n",
            "[nan nan]\n",
            "[nan nan]\n",
            "[nan nan]\n",
            "[nan nan]\n",
            "[nan nan]\n",
            "[nan nan]\n",
            "[nan nan]\n",
            "[nan nan]\n",
            "[nan nan]\n",
            "[nan nan]\n",
            "[nan nan]\n",
            "[nan nan]\n",
            "[nan nan]\n",
            "[nan nan]\n",
            "[nan nan]\n",
            "[nan nan]\n",
            "[nan nan]\n",
            "[nan nan]\n"
          ],
          "name": "stdout"
        }
      ]
    },
    {
      "cell_type": "markdown",
      "metadata": {
        "id": "ViQpszrQbp0V",
        "colab_type": "text"
      },
      "source": [
        "# PCA (Principal component analysis)\n",
        "\n",
        "If you have many variable (feature) in your data,sometime you may want to reduced the variable (feature) that insert into your model. In otherword you may want to reduce the dimension of your feature space but still preserved the information of your data.\n",
        "\n",
        "## Normal approach\n",
        "\n",
        "*   Substract mean from dataset first.\n",
        "*   $w$ is unit vector parallel to the axis that have most variance\n",
        "*   X is two dimension matrix $m \\times n$ for $m$ is number of dataset and $n$ is number of feature\n",
        "\n",
        "You want to maximum the variance of $Xw$ subject to $w$ is unit vector\n",
        "\n",
        "> Maximum $||Xw||^2$ \\\n",
        "> Subject to  $||w||^2 = 1$\n",
        "\n",
        "You can construct lagrange function $\\mathcal{L}$\n",
        "\n",
        "$$\\mathcal{L}(X,w,\\lambda) = ||Xw||^2 - \\lambda||w||^2$$\n",
        "\n",
        "> for $\\lambda$ is lagrange constant\n",
        "\n",
        "you want to find $w$ so just differentiate with w.\n",
        "\n",
        "$$\\frac{ \\partial ||Xw||^2}{\\partial w} = \\lambda \\frac{\\partial{||w||^2}}{\\partial w}$$\n",
        "\n",
        "$$ X^TXw = C w$$ for $C$ is some constant\n",
        "\n",
        "Went you look to the equation it may remind you of something. It is eigenvector/eigenvalue equation.\n",
        "\n",
        "Let $A = X^TX$\n",
        "\n",
        "$$ Aw = Cw$$\n",
        "\n",
        "or \n",
        "\n",
        "$$A = V \\Lambda V^{-1}$$\n",
        "\n",
        "> $V$ is eigenvector matrix \\\n",
        "> $\\Lambda$ is eigenvalue matrix\n",
        "\n",
        "So you just find the eigenvector of A and you got the solution $V$ but $V$ is the matrix of all eigenvector, so what eigenvector we should use?\n",
        "\n",
        "Let do SVD of X\n",
        "\n",
        "$$X = U\\Sigma R^T$$\n",
        "\n",
        "$$X^TX = R\\Sigma^2 R^T$$\n",
        "\n",
        "$$A = R\\Sigma^2 R^T$$\n",
        "\n",
        "Is similar to the $A = V \\Lambda V^{-1}$\n",
        "\n",
        "So\n",
        "> $V$ = $R$ \\\n",
        "> $\\Lambda$ = $\\Sigma^2$\n",
        "\n",
        "And you get \n",
        "\n",
        "$$XV = U\\Sigma$$\n",
        "\n",
        "Let look at what we want first, we want $Xw$ maximum and you know that w is in $V$\n",
        "\n",
        "Because $U$ is orthonormal matrix the variance in collumn is = 1, we should select where $U\\Sigma$ is maximum. And that mean select the eigenvector where the eigenvalue is maximum.\n",
        "\n",
        "\n"
      ]
    },
    {
      "cell_type": "code",
      "metadata": {
        "id": "DnLOMqUCvIV8",
        "colab_type": "code",
        "outputId": "7aa7f349-1c2e-408e-f53a-6e8bdfe15c9e",
        "colab": {
          "base_uri": "https://localhost:8080/",
          "height": 283
        }
      },
      "source": [
        "import numpy as np\n",
        "import matplotlib.pyplot as plt\n",
        "\n",
        "size = 100\n",
        "x = np.random.uniform(0,1, size = size)\n",
        "\n",
        "y = 2*x +1 + np.random.uniform(0,0.2, size = size)\n",
        "\n",
        "y = y.reshape((size,1))\n",
        "x = x.reshape((size,1))\n",
        "\n",
        "dataset = np.concatenate((x,y) , axis = 1)\n",
        "\n",
        "plt.ylim((0,4))\n",
        "plt.xlabel('Feature 1')\n",
        "plt.ylabel('Feature 2')\n",
        "plt.scatter(x,y)\n",
        "plt.show()"
      ],
      "execution_count": 0,
      "outputs": [
        {
          "output_type": "display_data",
          "data": {
            "image/png": "[encoded data removed]",
            "text/plain": [
              "<Figure size 432x288 with 1 Axes>"
            ]
          },
          "metadata": {
            "tags": []
          }
        }
      ]
    },
    {
      "cell_type": "markdown",
      "metadata": {
        "id": "S_rb8LjX5ICa",
        "colab_type": "text"
      },
      "source": [
        "Substract mean from dataset "
      ]
    },
    {
      "cell_type": "code",
      "metadata": {
        "id": "zFQZqINC5OOF",
        "colab_type": "code",
        "outputId": "e691d440-15c8-4c8c-8978-d837cc8b68ba",
        "colab": {
          "base_uri": "https://localhost:8080/",
          "height": 279
        }
      },
      "source": [
        "dataset_norm = dataset- dataset.mean(axis = 0)\n",
        "\n",
        "x = dataset_norm.T[0]\n",
        "y = dataset_norm.T[1]\n",
        "\n",
        "\n",
        "plt.xlabel('Feature 1')\n",
        "plt.ylabel('Feature 2')\n",
        "plt.scatter(x,y)\n",
        "plt.show()"
      ],
      "execution_count": 0,
      "outputs": [
        {
          "output_type": "display_data",
          "data": {
            "image/png": "[encoded data removed]",
            "text/plain": [
              "<Figure size 432x288 with 1 Axes>"
            ]
          },
          "metadata": {
            "tags": []
          }
        }
      ]
    },
    {
      "cell_type": "markdown",
      "metadata": {
        "id": "VOagdKHP8Uay",
        "colab_type": "text"
      },
      "source": [
        "Inverse PCA"
      ]
    },
    {
      "cell_type": "code",
      "metadata": {
        "id": "flj5SsRUvzK6",
        "colab_type": "code",
        "outputId": "a78afb9d-c31f-4988-d238-60514a2a3f53",
        "colab": {
          "base_uri": "https://localhost:8080/",
          "height": 283
        }
      },
      "source": [
        "cov = dataset_norm.T.dot(dataset_norm)\n",
        "eig_value, eig_vector = np.linalg.eigh(cov)\n",
        "\n",
        "max_eig_vector = eig_vector[-1].reshape((2,1))\n",
        "\n",
        "after_pca = dataset_norm.dot(max_eig_vector)\n",
        "inv_pca = after_pca.dot(max_eig_vector.T)\n",
        "\n",
        "plot_inv_pca = inv_pca.T\n",
        "\n",
        "plt.scatter(plot_inv_pca[0], plot_inv_pca[1])\n"
      ],
      "execution_count": 0,
      "outputs": [
        {
          "output_type": "execute_result",
          "data": {
            "text/plain": [
              "<matplotlib.collections.PathCollection at 0x7f235cbc8780>"
            ]
          },
          "metadata": {
            "tags": []
          },
          "execution_count": 56
        },
        {
          "output_type": "display_data",
          "data": {
            "image/png": "[encoded data removed]",
            "text/plain": [
              "<Figure size 432x288 with 1 Axes>"
            ]
          },
          "metadata": {
            "tags": []
          }
        }
      ]
    },
    {
      "cell_type": "markdown",
      "metadata": {
        "id": "5OCNo6OJIrSj",
        "colab_type": "text"
      },
      "source": [
        "## PCA with kernel\n",
        "\n",
        "let $x,z \\in X$\n",
        "\n",
        "Introduce mapping function $\\phi:X \\rightarrow \\mathcal{R^n}$\n",
        "\n",
        "and kernel function $k(x,z) = \\langle \\phi(x) ,\\phi(z) \\rangle$\n",
        "\n",
        "Mapping function change data from feature space to kernel space to make it more simple to analyse.\n",
        "\n",
        "Example\n",
        "\n",
        "$\\phi (x) = x \\ mod \\ 2$ \n",
        "\n",
        "map feature from 1 dimension into 2 dimension space\n",
        "\n",
        "![alt text](https://drive.google.com/uc?id=1zb3W5BW0k_AuKFOenbv9zr0wUpaLLOOz)\n",
        "\n",
        "![alt text](https://drive.google.com/uc?id=1NXHZc2mb9egsPuUhNADZ0yaDDH7F3106)\n"
      ]
    },
    {
      "cell_type": "markdown",
      "metadata": {
        "id": "h8NxVE9lp5Gc",
        "colab_type": "text"
      },
      "source": [
        "## Probabilistic PCA"
      ]
    },
    {
      "cell_type": "markdown",
      "metadata": {
        "id": "VAwdT6KruByR",
        "colab_type": "text"
      },
      "source": [
        ""
      ]
    }
  ]
}