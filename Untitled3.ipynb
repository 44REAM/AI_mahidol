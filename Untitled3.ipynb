{
  "nbformat": 4,
  "nbformat_minor": 0,
  "metadata": {
    "colab": {
      "name": "Untitled3.ipynb",
      "provenance": []
    },
    "kernelspec": {
      "name": "python3",
      "display_name": "Python 3"
    }
  },
  "cells": [
    {
      "cell_type": "markdown",
      "metadata": {
        "id": "4MjKCeriZuBe",
        "colab_type": "text"
      },
      "source": [
        "# List"
      ]
    },
    {
      "cell_type": "code",
      "metadata": {
        "id": "5T1drmG5ZVik",
        "colab_type": "code",
        "colab": {
          "base_uri": "https://localhost:8080/",
          "height": 51
        },
        "outputId": "72c705f8-5b33-4a2f-9f3b-bc7aa750c562"
      },
      "source": [
        "list1 = ['physics', 'chemistry', 1997, 2000]\n",
        "list2 = [1, 2, 3, 4, 5 ]\n",
        "list3 = [\"a\", \"b\", \"c\", \"d\"]\n",
        "\n",
        "print(\"list3 =\",list3)\n",
        "\n",
        "print(\"list3 slice =\",list3[0:3])"
      ],
      "execution_count": 1,
      "outputs": [
        {
          "output_type": "stream",
          "text": [
            "list3 = ['a', 'b', 'c', 'd']\n",
            "list3 slice = ['a', 'b', 'c']\n"
          ],
          "name": "stdout"
        }
      ]
    },
    {
      "cell_type": "markdown",
      "metadata": {
        "id": "rvGv8zyxaFDC",
        "colab_type": "text"
      },
      "source": [
        "## Updating lists"
      ]
    },
    {
      "cell_type": "code",
      "metadata": {
        "id": "BtU7rteoZ-XN",
        "colab_type": "code",
        "colab": {
          "base_uri": "https://localhost:8080/",
          "height": 34
        },
        "outputId": "425e691a-ea1e-4f5f-873a-a4915845c746"
      },
      "source": [
        "list3 = [\"a\", \"b\", \"c\", \"d\"]\n",
        "\n",
        "list3[0] = 'new'\n",
        "print(list3)"
      ],
      "execution_count": 2,
      "outputs": [
        {
          "output_type": "stream",
          "text": [
            "['new', 'b', 'c', 'd']\n"
          ],
          "name": "stdout"
        }
      ]
    },
    {
      "cell_type": "code",
      "metadata": {
        "id": "gofWUPnfaHLv",
        "colab_type": "code",
        "colab": {
          "base_uri": "https://localhost:8080/",
          "height": 34
        },
        "outputId": "b89418b6-bcae-4932-cb93-2103bcfde7fa"
      },
      "source": [
        "list3 = [\"a\", \"b\", \"c\", \"d\"]\n",
        "\n",
        "list3.append('e')\n",
        "print(list3)"
      ],
      "execution_count": 3,
      "outputs": [
        {
          "output_type": "stream",
          "text": [
            "['a', 'b', 'c', 'd', 'e']\n"
          ],
          "name": "stdout"
        }
      ]
    },
    {
      "cell_type": "markdown",
      "metadata": {
        "id": "JZ4CkcvMaQv_",
        "colab_type": "text"
      },
      "source": [
        "## Iterate over a list in Python"
      ]
    },
    {
      "cell_type": "code",
      "metadata": {
        "id": "fF8vzlJ-aKlh",
        "colab_type": "code",
        "colab": {
          "base_uri": "https://localhost:8080/",
          "height": 102
        },
        "outputId": "bf100cf8-3277-4859-8fbc-60a81f837585"
      },
      "source": [
        "for i in range(5):\n",
        "  print(i)"
      ],
      "execution_count": 4,
      "outputs": [
        {
          "output_type": "stream",
          "text": [
            "0\n",
            "1\n",
            "2\n",
            "3\n",
            "4\n"
          ],
          "name": "stdout"
        }
      ]
    },
    {
      "cell_type": "code",
      "metadata": {
        "id": "Q2YRSfaHaNFm",
        "colab_type": "code",
        "colab": {
          "base_uri": "https://localhost:8080/",
          "height": 85
        },
        "outputId": "5a17f249-4829-47b6-cf5f-576b5f18bfeb"
      },
      "source": [
        "list1 = ['physics', 'chemistry', 1997, 2000]\n",
        "\n",
        "for i in list1:\n",
        "  print(i);"
      ],
      "execution_count": 5,
      "outputs": [
        {
          "output_type": "stream",
          "text": [
            "physics\n",
            "chemistry\n",
            "1997\n",
            "2000\n"
          ],
          "name": "stdout"
        }
      ]
    },
    {
      "cell_type": "code",
      "metadata": {
        "id": "lB4sUn9LaO6W",
        "colab_type": "code",
        "colab": {
          "base_uri": "https://localhost:8080/",
          "height": 85
        },
        "outputId": "fc298e5f-c694-4a13-e505-9c6810495360"
      },
      "source": [
        "age_list = [25,32,22,35 ]\n",
        "\n",
        "for index, age in enumerate(age_list):\n",
        "  print(\"index\", index, end = \" \")\n",
        "  print(\"age\", age)"
      ],
      "execution_count": 6,
      "outputs": [
        {
          "output_type": "stream",
          "text": [
            "index 0 age 25\n",
            "index 1 age 32\n",
            "index 2 age 22\n",
            "index 3 age 35\n"
          ],
          "name": "stdout"
        }
      ]
    },
    {
      "cell_type": "code",
      "metadata": {
        "id": "Rhscdn3kaUXS",
        "colab_type": "code",
        "colab": {
          "base_uri": "https://localhost:8080/",
          "height": 34
        },
        "outputId": "e37320a6-d419-4e3c-d7d0-425cdd333edf"
      },
      "source": [
        "age_list = [25,32,22,35]\n",
        "\n",
        "for index, age in enumerate(age_list):\n",
        "  age_list[index] = age+20\n",
        "print(age_list)"
      ],
      "execution_count": 7,
      "outputs": [
        {
          "output_type": "stream",
          "text": [
            "[45, 52, 42, 55]\n"
          ],
          "name": "stdout"
        }
      ]
    },
    {
      "cell_type": "code",
      "metadata": {
        "id": "-zmR3pwZaZLk",
        "colab_type": "code",
        "colab": {
          "base_uri": "https://localhost:8080/",
          "height": 163
        },
        "outputId": "d11f36b8-be39-4470-9a08-30cbdc689909"
      },
      "source": [
        "print(age_list+20)"
      ],
      "execution_count": 8,
      "outputs": [
        {
          "output_type": "error",
          "ename": "TypeError",
          "evalue": "ignored",
          "traceback": [
            "\u001b[0;31m---------------------------------------------------------------------------\u001b[0m",
            "\u001b[0;31mTypeError\u001b[0m                                 Traceback (most recent call last)",
            "\u001b[0;32m<ipython-input-8-f64639bb2ac2>\u001b[0m in \u001b[0;36m<module>\u001b[0;34m()\u001b[0m\n\u001b[0;32m----> 1\u001b[0;31m \u001b[0mprint\u001b[0m\u001b[0;34m(\u001b[0m\u001b[0mage_list\u001b[0m\u001b[0;34m+\u001b[0m\u001b[0;36m20\u001b[0m\u001b[0;34m)\u001b[0m\u001b[0;34m\u001b[0m\u001b[0;34m\u001b[0m\u001b[0m\n\u001b[0m",
            "\u001b[0;31mTypeError\u001b[0m: can only concatenate list (not \"int\") to list"
          ]
        }
      ]
    },
    {
      "cell_type": "markdown",
      "metadata": {
        "id": "tzVByQJjajUo",
        "colab_type": "text"
      },
      "source": [
        "#Function"
      ]
    },
    {
      "cell_type": "code",
      "metadata": {
        "id": "7lF8sd2yaWv-",
        "colab_type": "code",
        "colab": {
          "base_uri": "https://localhost:8080/",
          "height": 51
        },
        "outputId": "38b17313-4dc6-4547-8de8-1b6f03d5072f"
      },
      "source": [
        "def function1():\n",
        "  print(\"Hello\")\n",
        "  print(\"HEllo2\")\n",
        "function1()"
      ],
      "execution_count": 9,
      "outputs": [
        {
          "output_type": "stream",
          "text": [
            "Hello\n",
            "HEllo2\n"
          ],
          "name": "stdout"
        }
      ]
    },
    {
      "cell_type": "code",
      "metadata": {
        "id": "IydW-gveaiL6",
        "colab_type": "code",
        "colab": {
          "base_uri": "https://localhost:8080/",
          "height": 34
        },
        "outputId": "42420487-992b-4880-bafa-dbaced0ee3a0"
      },
      "source": [
        "def print_name(name):\n",
        "  print(\"Hello\",name)\n",
        "\n",
        "print_name(\"Dream\")"
      ],
      "execution_count": 10,
      "outputs": [
        {
          "output_type": "stream",
          "text": [
            "Hello Dream\n"
          ],
          "name": "stdout"
        }
      ]
    },
    {
      "cell_type": "code",
      "metadata": {
        "id": "Fz1WrvZJapR3",
        "colab_type": "code",
        "colab": {
          "base_uri": "https://localhost:8080/",
          "height": 34
        },
        "outputId": "7a5d979a-9956-429b-c34f-f5e0706f6ceb"
      },
      "source": [
        "def plus(a,b):\n",
        "  print(\"a+b =\", a+b)\n",
        "  \n",
        "plus(2,6)"
      ],
      "execution_count": 11,
      "outputs": [
        {
          "output_type": "stream",
          "text": [
            "a+b = 8\n"
          ],
          "name": "stdout"
        }
      ]
    },
    {
      "cell_type": "markdown",
      "metadata": {
        "id": "GmvwseFQaw-t",
        "colab_type": "text"
      },
      "source": [
        "# Numpy"
      ]
    },
    {
      "cell_type": "code",
      "metadata": {
        "id": "mzTi4xXwaq8v",
        "colab_type": "code",
        "colab": {}
      },
      "source": [
        "import time\n",
        "import numpy as np"
      ],
      "execution_count": 0,
      "outputs": []
    },
    {
      "cell_type": "code",
      "metadata": {
        "id": "UameQvFla2PS",
        "colab_type": "code",
        "colab": {
          "base_uri": "https://localhost:8080/",
          "height": 51
        },
        "outputId": "b9a287fd-923c-448d-e57e-610142a28b06"
      },
      "source": [
        "age_list = [25,32,22,35 ]\n",
        "\n",
        "age_numpy_array = np.array(age_list)\n",
        "print(\"numpy array : \" ,age_numpy_array)\n",
        "\n",
        "age_numpy_array  += 20\n",
        "print(\"numpy array +20 : \" ,age_numpy_array)"
      ],
      "execution_count": 13,
      "outputs": [
        {
          "output_type": "stream",
          "text": [
            "numpy array :  [25 32 22 35]\n",
            "numpy array +20 :  [45 52 42 55]\n"
          ],
          "name": "stdout"
        }
      ]
    },
    {
      "cell_type": "code",
      "metadata": {
        "id": "yrlcWD3da4a8",
        "colab_type": "code",
        "colab": {
          "base_uri": "https://localhost:8080/",
          "height": 102
        },
        "outputId": "eb4e9a5f-5f91-45f8-e2b2-20a72e2e4bf7"
      },
      "source": [
        "\n",
        "numpy_array = np.array([[2,3],[4,5]])\n",
        "\n",
        "print(numpy_array)\n",
        "\n",
        "print(\"shape =\", numpy_array.shape )\n",
        "print(\"size =\", numpy_array.size )\n",
        "print(\"dimension =\", numpy_array.ndim)"
      ],
      "execution_count": 16,
      "outputs": [
        {
          "output_type": "stream",
          "text": [
            "[[2 3]\n",
            " [4 5]]\n",
            "shape = (2, 2)\n",
            "size = 4\n",
            "dimension = 2\n"
          ],
          "name": "stdout"
        }
      ]
    },
    {
      "cell_type": "markdown",
      "metadata": {
        "id": "lA4tw1mdbJ_9",
        "colab_type": "text"
      },
      "source": [
        "## Basic operation"
      ]
    },
    {
      "cell_type": "code",
      "metadata": {
        "id": "dcK1SP_xa9nB",
        "colab_type": "code",
        "colab": {
          "base_uri": "https://localhost:8080/",
          "height": 85
        },
        "outputId": "5134076a-79ca-4757-801f-3dda2b4b9788"
      },
      "source": [
        "arr = np.array([20,30,40,50])\n",
        "arr2 = np.array([10,30,20,55])\n",
        "\n",
        "print(\"arr+ arr2 =\",arr+arr2)\n",
        "print(\"arr**2 =\",arr**2)\n",
        "print(\"arr < 35 =\",arr<35)\n",
        "print(\"arr.sum() =\",arr.sum())"
      ],
      "execution_count": 17,
      "outputs": [
        {
          "output_type": "stream",
          "text": [
            "arr+ arr2 = [ 30  60  60 105]\n",
            "arr**2 = [ 400  900 1600 2500]\n",
            "arr < 35 = [ True  True False False]\n",
            "arr.sum() = 140\n"
          ],
          "name": "stdout"
        }
      ]
    },
    {
      "cell_type": "code",
      "metadata": {
        "id": "pJ-e6ekRbJgA",
        "colab_type": "code",
        "colab": {
          "base_uri": "https://localhost:8080/",
          "height": 34
        },
        "outputId": "40f8dcab-07e0-4e18-eaa0-e1f500180070"
      },
      "source": [
        "from math import pi\n",
        "\n",
        "rad = np.array([pi*0,pi/2,pi,pi*3/2])\n",
        "\n",
        "result =np.cos(rad)\n",
        "print(result)"
      ],
      "execution_count": 19,
      "outputs": [
        {
          "output_type": "stream",
          "text": [
            "[ 1.0000000e+00  6.1232340e-17 -1.0000000e+00 -1.8369702e-16]\n"
          ],
          "name": "stdout"
        }
      ]
    },
    {
      "cell_type": "code",
      "metadata": {
        "id": "ga_cdchDbWO-",
        "colab_type": "code",
        "colab": {
          "base_uri": "https://localhost:8080/",
          "height": 408
        },
        "outputId": "88b80df1-97a0-47b3-ff07-d0a52024a5e1"
      },
      "source": [
        "A = np.array([[1,1],\n",
        "             [0,1]])\n",
        "B = np.array([[2,0],\n",
        "              [3,4]])\n",
        "\n",
        "\n",
        "print(\"A*B =\\n\",A*B)\n",
        "print(\"\\nA.dot(B) =\\n\",A.dot(B))\n",
        "print(\"\\nA.sum() =\",A.sum())\n",
        "print(\"\\nA.sum(axis = 1)\", A.sum(axis = 1))\n",
        "print(\"\\nA.T = \\n\", A.T)\n",
        "print(\"\\nnp.linalg.inv = \\n\", np.linalg.inv(A))\n",
        "\n",
        "print(\"\\nB[0,1] =\", B[0,1])\n",
        "print(\"\\nB[:,1] =\", B[:,1])"
      ],
      "execution_count": 29,
      "outputs": [
        {
          "output_type": "stream",
          "text": [
            "A*B =\n",
            " [[2 0]\n",
            " [0 4]]\n",
            "\n",
            "A.dot(B) =\n",
            " [[5 4]\n",
            " [3 4]]\n",
            "\n",
            "A.sum() = 3\n",
            "\n",
            "A.sum(axis = 1) [2 1]\n",
            "\n",
            "A.T = \n",
            " [[1 0]\n",
            " [1 1]]\n",
            "\n",
            "np.linalg.inv = \n",
            " [[ 1. -1.]\n",
            " [ 0.  1.]]\n",
            "\n",
            "B[0,1] = 0\n",
            "\n",
            "B[:,1] = [0 4]\n"
          ],
          "name": "stdout"
        }
      ]
    },
    {
      "cell_type": "code",
      "metadata": {
        "id": "abBmd8XWbbNV",
        "colab_type": "code",
        "colab": {
          "base_uri": "https://localhost:8080/",
          "height": 51
        },
        "outputId": "a49724bf-3323-482f-d37c-0bda331d869d"
      },
      "source": [
        "\n",
        "age_list = [25,32,22,35 ]*200000\n",
        "\n",
        "start_time = time.time()\n",
        "for index,age in enumerate(age_list):\n",
        "  age_list[index] += 20\n",
        "  \n",
        "print(\"list time =\", time.time()- start_time)\n",
        "\n",
        "\n",
        "\n",
        "age_numpy_array = np.array(age_list)\n",
        "start_time = time.time()\n",
        "age_numpy_array  += 20\n",
        "\n",
        "print(\"numpy array time = \", time.time()-start_time)\n"
      ],
      "execution_count": 30,
      "outputs": [
        {
          "output_type": "stream",
          "text": [
            "list time = 0.13088321685791016\n",
            "numpy array time =  0.0008070468902587891\n"
          ],
          "name": "stdout"
        }
      ]
    },
    {
      "cell_type": "markdown",
      "metadata": {
        "id": "_m1lCTAcf0LB",
        "colab_type": "text"
      },
      "source": [
        "#Naive Bayes"
      ]
    },
    {
      "cell_type": "markdown",
      "metadata": {
        "id": "YiXw_43HcTVy",
        "colab_type": "text"
      },
      "source": [
        ""
      ]
    },
    {
      "cell_type": "markdown",
      "metadata": {
        "id": "mEYN4wDQdhkD",
        "colab_type": "text"
      },
      "source": [
        "                      | Patients number | New China Virus | Fever | Vomitting       |\n",
        "                      |-----------------|-----------------|-------|-----------------|\n",
        "                      | 1               | 1               | 1     | 1               |\n",
        "                      | 2               | 0               | 1     | 0               |\n",
        "                      | 3               | 1               | 1     | 1               |\n",
        "                      | 4               | 1               | 1     | 1               |\n",
        "                      | 5               | 0               | 1     | 1               |\n",
        "                      | 6               | 0               | 1     | 0               |\n",
        "                      | 7               | 1               | 0     | 1               |\n",
        "                      | 8               | 0               | 1     | 0               |\n",
        "                      | 9               | 1               | 0     | 1               |\n",
        "                      | 10              | 0               | 1     | 0               |"
      ]
    },
    {
      "cell_type": "code",
      "metadata": {
        "id": "x78N4CtvcNfu",
        "colab_type": "code",
        "colab": {}
      },
      "source": [
        "dataset = [[1,1,1],\n",
        "           [0,1,0],\n",
        "           [1,1,1],\n",
        "           [1,1,1],\n",
        "           [0,1,1],\n",
        "           [0,1,0],\n",
        "           [1,0,1],\n",
        "           [0,1,0],\n",
        "           [1,0,1],\n",
        "           [0,1,0]]\n",
        "dataset = np.array(dataset)"
      ],
      "execution_count": 0,
      "outputs": []
    },
    {
      "cell_type": "code",
      "metadata": {
        "id": "J_OI6AXhdM4p",
        "colab_type": "code",
        "colab": {
          "base_uri": "https://localhost:8080/",
          "height": 323
        },
        "outputId": "018a3656-5c32-481f-9f09-3e4eba53156d"
      },
      "source": [
        "print(\"dataset = \\n\",dataset)\n",
        "\n",
        "fever = dataset[:, 1]\n",
        "virus = dataset[:, 0]\n",
        "vomit = dataset[:, 2]\n",
        "\n",
        "\n",
        "p_vomit = vomit.sum()/len(vomit)\n",
        "p_virus = virus.sum()/len(virus)\n",
        "p_fever = fever.sum()/len(fever)\n",
        "\n",
        "dataset_virus_positive = dataset[virus == 1]\n",
        "\n",
        "print(\"dataset virus positive = \\n\" ,dataset_virus_positive)\n",
        "\n",
        "vomit_virus_pos = dataset_virus_positive[:,2]\n",
        "fever_virus_pos = dataset_virus_positive[:,1]\n",
        "\n",
        "p_vomit_condition_virus = vomit_virus_pos.sum()/len(vomit_virus_pos)\n",
        "p_fever_condition_virus = fever_virus_pos.sum()/len(fever_virus_pos)\n",
        "\n",
        "posterior = p_vomit_condition_virus*p_vomit_condition_virus*p_virus/p_vomit/p_fever\n",
        "\n",
        "print( \"posterior = \",posterior)"
      ],
      "execution_count": 34,
      "outputs": [
        {
          "output_type": "stream",
          "text": [
            "dataset = \n",
            " [[1 1 1]\n",
            " [0 1 0]\n",
            " [1 1 1]\n",
            " [1 1 1]\n",
            " [0 1 1]\n",
            " [0 1 0]\n",
            " [1 0 1]\n",
            " [0 1 0]\n",
            " [1 0 1]\n",
            " [0 1 0]]\n",
            "dataset virus positive = \n",
            " [[1 1 1]\n",
            " [1 1 1]\n",
            " [1 1 1]\n",
            " [1 0 1]\n",
            " [1 0 1]]\n",
            "posterior =  1.0416666666666667\n"
          ],
          "name": "stdout"
        }
      ]
    },
    {
      "cell_type": "markdown",
      "metadata": {
        "id": "afBLHP6Fhx6R",
        "colab_type": "text"
      },
      "source": [
        "#Regression"
      ]
    },
    {
      "cell_type": "markdown",
      "metadata": {
        "id": "eIqaTz6mpv7W",
        "colab_type": "text"
      },
      "source": [
        "##Example"
      ]
    },
    {
      "cell_type": "code",
      "metadata": {
        "id": "0EWqJUEndQc7",
        "colab_type": "code",
        "colab": {}
      },
      "source": [
        "import matplotlib.pyplot as plt\n",
        "size = 100\n",
        "x = np.random.uniform(0,10,size = size)\n",
        "\n",
        "y = 2*x + 15 + np.random.randn(size)\n",
        "plt.ylim(0,50)\n",
        "plt.scatter(x,y)"
      ],
      "execution_count": 0,
      "outputs": []
    },
    {
      "cell_type": "code",
      "metadata": {
        "id": "cg6GXHD4ll8R",
        "colab_type": "code",
        "colab": {}
      },
      "source": [
        "x = x.reshape((100,1))\n",
        "y = y.reshape((100,1))\n",
        "bias = np.ones((size,1))\n",
        "X = np.concatenate( (x, bias ), axis = -1)"
      ],
      "execution_count": 0,
      "outputs": []
    },
    {
      "cell_type": "code",
      "metadata": {
        "id": "T2WxDLFqleRh",
        "colab_type": "code",
        "colab": {}
      },
      "source": [
        "lamb = 0.2\n",
        "w = (np.linalg.inv((X.T).dot(X) + lamb*np.identity(2))).dot((X.T).dot(y))"
      ],
      "execution_count": 0,
      "outputs": []
    },
    {
      "cell_type": "code",
      "metadata": {
        "id": "dyvv1865pSc2",
        "colab_type": "code",
        "colab": {
          "base_uri": "https://localhost:8080/",
          "height": 51
        },
        "outputId": "21605427-94b7-4802-93bf-54f3c913c511"
      },
      "source": [
        "print(w)"
      ],
      "execution_count": 131,
      "outputs": [
        {
          "output_type": "stream",
          "text": [
            "[[ 1.94513592]\n",
            " [15.26570659]]\n"
          ],
          "name": "stdout"
        }
      ]
    },
    {
      "cell_type": "code",
      "metadata": {
        "id": "oTSWJcgClhy9",
        "colab_type": "code",
        "colab": {
          "base_uri": "https://localhost:8080/",
          "height": 269
        },
        "outputId": "d197ace9-0e11-408a-ddce-44a1db02a5fa"
      },
      "source": [
        "x_plot = np.linspace(0,10,size)\n",
        "y_hat = x_plot*w[0] + w[1]\n",
        "plt.ylim(0,50)\n",
        "plt.plot(x_plot,y_hat, color = 'r')\n",
        "plt.scatter(x,y)\n",
        "plt.show()"
      ],
      "execution_count": 130,
      "outputs": [
        {
          "output_type": "display_data",
          "data": {
            "image/png": "[encoded data removed]",
            "text/plain": [
              "<Figure size 432x288 with 1 Axes>"
            ]
          },
          "metadata": {
            "tags": []
          }
        }
      ]
    },
    {
      "cell_type": "markdown",
      "metadata": {
        "id": "be76og_Ppu0E",
        "colab_type": "text"
      },
      "source": [
        "##Quiz"
      ]
    },
    {
      "cell_type": "code",
      "metadata": {
        "id": "YRRNlZK9ogAK",
        "colab_type": "code",
        "colab": {
          "base_uri": "https://localhost:8080/",
          "height": 282
        },
        "outputId": "09d728b5-f7ee-4ee7-c558-c66ca17550a8"
      },
      "source": [
        "size = 100\n",
        "x = np.random.uniform(0,2,size = size)\n",
        "\n",
        "y = 0.4*x**4 + 0.6*x**2 + 2*x + 15 + np.random.randn(size)\n",
        "plt.scatter(x,y)"
      ],
      "execution_count": 138,
      "outputs": [
        {
          "output_type": "execute_result",
          "data": {
            "text/plain": [
              "<matplotlib.collections.PathCollection at 0x7f56dc66da90>"
            ]
          },
          "metadata": {
            "tags": []
          },
          "execution_count": 138
        },
        {
          "output_type": "display_data",
          "data": {
            "image/png": "[encoded data removed]",
            "text/plain": [
              "<Figure size 432x288 with 1 Axes>"
            ]
          },
          "metadata": {
            "tags": []
          }
        }
      ]
    },
    {
      "cell_type": "code",
      "metadata": {
        "id": "R_lN-sUBpg2y",
        "colab_type": "code",
        "colab": {}
      },
      "source": [
        ""
      ],
      "execution_count": 0,
      "outputs": []
    }
  ]
}